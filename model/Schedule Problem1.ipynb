{
 "cells": [
  {
   "cell_type": "markdown",
   "metadata": {},
   "source": [
    "You have different tasks to finish within the day. 7 am is the earliest time and 10 pm is the latest time of the day to finish all the tasks. Since each time block is 30', there are (15 hours)*(2 blocks/hour)= 30 blocks. Each task takes different amount of time to complete and different important score. Given that there are scheduled meetings during the day that you cannot assign the tasks.  How do you assign the tasks to maximize the productivty? Note: Since there is limited time per day, you don't need to assign every task in one day, the goal is not to fit every task but to maximize the total score"
   ]
  },
  {
   "cell_type": "code",
   "execution_count": 27,
   "metadata": {
    "ExecuteTime": {
     "end_time": "2020-06-28T15:47:38.952858Z",
     "start_time": "2020-06-28T15:47:38.719402Z"
    }
   },
   "outputs": [],
   "source": [
    "import logging\n",
    "logger = logging.getLogger()\n",
    "fhandler = logging.FileHandler(filename='mylog.log', mode='a')\n",
    "formatter = logging.Formatter('%(asctime)s - %(name)s - %(levelname)s - %(message)s')\n",
    "fhandler.setFormatter(formatter)\n",
    "logger.addHandler(fhandler)\n",
    "logger.setLevel(logging.DEBUG)"
   ]
  },
  {
   "cell_type": "code",
   "execution_count": 28,
   "outputs": [
    {
     "name": "stdout",
     "output_type": "stream",
     "text": [
      "Requirement already satisfied: pandas in /Users/owner/.conda/envs/Cuda_testing/lib/python3.7/site-packages (1.0.5)\r\n",
      "Requirement already satisfied: numpy>=1.13.3 in /Users/owner/.conda/envs/Cuda_testing/lib/python3.7/site-packages (from pandas) (1.20.3)\r\n",
      "Requirement already satisfied: pytz>=2017.2 in /Users/owner/.conda/envs/Cuda_testing/lib/python3.7/site-packages (from pandas) (2020.1)\r\n",
      "Requirement already satisfied: python-dateutil>=2.6.1 in /Users/owner/.conda/envs/Cuda_testing/lib/python3.7/site-packages (from pandas) (2.8.1)\r\n",
      "Requirement already satisfied: six>=1.5 in /Users/owner/.conda/envs/Cuda_testing/lib/python3.7/site-packages (from python-dateutil>=2.6.1->pandas) (1.15.0)\r\n",
      "Requirement already satisfied: pulp in /Users/owner/.conda/envs/Cuda_testing/lib/python3.7/site-packages (2.6.0)\r\n",
      "Requirement already satisfied: tox in /Users/owner/.conda/envs/Cuda_testing/lib/python3.7/site-packages (3.24.5)\r\n",
      "Requirement already satisfied: py>=1.4.17 in /Users/owner/.conda/envs/Cuda_testing/lib/python3.7/site-packages (from tox) (1.11.0)\r\n",
      "Requirement already satisfied: toml>=0.9.4 in /Users/owner/.conda/envs/Cuda_testing/lib/python3.7/site-packages (from tox) (0.10.2)\r\n",
      "Requirement already satisfied: importlib-metadata>=0.12 in /Users/owner/.conda/envs/Cuda_testing/lib/python3.7/site-packages (from tox) (3.10.0)\r\n",
      "Requirement already satisfied: packaging>=14 in /Users/owner/.conda/envs/Cuda_testing/lib/python3.7/site-packages (from tox) (21.0)\r\n",
      "Requirement already satisfied: virtualenv!=20.0.0,!=20.0.1,!=20.0.2,!=20.0.3,!=20.0.4,!=20.0.5,!=20.0.6,!=20.0.7,>=16.0.0 in /Users/owner/.conda/envs/Cuda_testing/lib/python3.7/site-packages (from tox) (20.13.1)\r\n",
      "Requirement already satisfied: filelock>=3.0.0 in /Users/owner/.conda/envs/Cuda_testing/lib/python3.7/site-packages (from tox) (3.6.0)\r\n",
      "Requirement already satisfied: six>=1.14.0 in /Users/owner/.conda/envs/Cuda_testing/lib/python3.7/site-packages (from tox) (1.15.0)\r\n",
      "Requirement already satisfied: pluggy>=0.12.0 in /Users/owner/.conda/envs/Cuda_testing/lib/python3.7/site-packages (from tox) (1.0.0)\r\n",
      "Requirement already satisfied: zipp>=0.5 in /Users/owner/.conda/envs/Cuda_testing/lib/python3.7/site-packages (from importlib-metadata>=0.12->tox) (3.5.0)\r\n",
      "Requirement already satisfied: typing-extensions>=3.6.4 in /Users/owner/.conda/envs/Cuda_testing/lib/python3.7/site-packages (from importlib-metadata>=0.12->tox) (3.10.0.0)\r\n",
      "Requirement already satisfied: pyparsing>=2.0.2 in /Users/owner/.conda/envs/Cuda_testing/lib/python3.7/site-packages (from packaging>=14->tox) (2.4.7)\r\n",
      "Requirement already satisfied: distlib<1,>=0.3.1 in /Users/owner/.conda/envs/Cuda_testing/lib/python3.7/site-packages (from virtualenv!=20.0.0,!=20.0.1,!=20.0.2,!=20.0.3,!=20.0.4,!=20.0.5,!=20.0.6,!=20.0.7,>=16.0.0->tox) (0.3.4)\r\n",
      "Requirement already satisfied: platformdirs<3,>=2 in /Users/owner/.conda/envs/Cuda_testing/lib/python3.7/site-packages (from virtualenv!=20.0.0,!=20.0.1,!=20.0.2,!=20.0.3,!=20.0.4,!=20.0.5,!=20.0.6,!=20.0.7,>=16.0.0->tox) (2.5.0)\r\n",
      "Requirement already satisfied: matplotlib in /Users/owner/.conda/envs/Cuda_testing/lib/python3.7/site-packages (3.2.2)\r\n",
      "Requirement already satisfied: kiwisolver>=1.0.1 in /Users/owner/.conda/envs/Cuda_testing/lib/python3.7/site-packages (from matplotlib) (1.2.0)\r\n",
      "Requirement already satisfied: pyparsing!=2.0.4,!=2.1.2,!=2.1.6,>=2.0.1 in /Users/owner/.conda/envs/Cuda_testing/lib/python3.7/site-packages (from matplotlib) (2.4.7)\r\n",
      "Requirement already satisfied: numpy>=1.11 in /Users/owner/.conda/envs/Cuda_testing/lib/python3.7/site-packages (from matplotlib) (1.20.3)\r\n",
      "Requirement already satisfied: cycler>=0.10 in /Users/owner/.conda/envs/Cuda_testing/lib/python3.7/site-packages (from matplotlib) (0.10.0)\r\n",
      "Requirement already satisfied: python-dateutil>=2.1 in /Users/owner/.conda/envs/Cuda_testing/lib/python3.7/site-packages (from matplotlib) (2.8.1)\r\n",
      "Requirement already satisfied: six in /Users/owner/.conda/envs/Cuda_testing/lib/python3.7/site-packages (from cycler>=0.10->matplotlib) (1.15.0)\r\n",
      "Requirement already satisfied: pip in /Users/owner/.conda/envs/Cuda_testing/lib/python3.7/site-packages (21.2.2)\r\n"
     ]
    }
   ],
   "source": [
    "!pip3 install pandas\n",
    "!pip3 install pulp\n",
    "!pip3 install tox\n",
    "!pip3 install matplotlib\n",
    "!pip3 install pip"
   ],
   "metadata": {
    "collapsed": false,
    "pycharm": {
     "name": "#%%\n"
    }
   }
  },
  {
   "cell_type": "code",
   "execution_count": 29,
   "outputs": [
    {
     "name": "stdout",
     "output_type": "stream",
     "text": [
      "Task nameshort phrase Importance Scorelower is less Time to FinishEstimated Minutes Num of Blocks30 min each\n"
     ]
    },
    {
     "data": {
      "text/plain": "                                  Task name  Important score (1-5)  \\\n0                    Complete math homework                    4.0   \n1                Study for the Physics quiz                    5.0   \n2                        Coffee with Taylor                    1.0   \n3                                 Read book                    3.0   \n4              Complete programming project                    3.0   \n5                           Reply to emails                    2.0   \n6                              Finish essay                    2.0   \n7                               Watch movie                    1.0   \n8                                  Call mom                    2.0   \n9                          MATH342 Homework                    5.0   \n10                           DA460 Homework                    5.0   \n11                          encryption plan                    NaN   \n12                           nightly review                    NaN   \n13                            weekly review                    NaN   \n14             write out next days calendar                    NaN   \n15                             housekeeping                    NaN   \n16        online profile review steps taken                    NaN   \n17                            proton w subs                    NaN   \n18     python script for proton integration                    NaN   \n19                        SQLdbase for data                    NaN   \n20                               harden AWS                    NaN   \n21                        AWS certification                    NaN   \n22                  daily schedule practice                    NaN   \n23                           watch EP daily                    4.0   \n24       adjust code for recurrent meetings                    NaN   \n25     adjust code for calendar integration                    NaN   \n26  adjust code for Django Todo integration                    NaN   \n\n    Time to finish  Num of blocks  \n0             60.0            2.0  \n1            120.0            4.0  \n2             60.0            2.0  \n3             30.0            1.0  \n4            150.0            5.0  \n5             30.0            1.0  \n6            120.0            4.0  \n7             90.0            3.0  \n8             30.0            1.0  \n9            360.0           12.0  \n10           240.0            8.0  \n11             NaN            NaN  \n12             NaN            NaN  \n13             NaN            NaN  \n14             NaN            NaN  \n15             NaN            NaN  \n16             NaN            NaN  \n17             NaN            NaN  \n18             NaN            NaN  \n19             NaN            NaN  \n20             NaN            NaN  \n21             NaN            NaN  \n22             NaN            NaN  \n23            30.0            1.0  \n24             NaN            NaN  \n25             NaN            NaN  \n26             NaN            NaN  ",
      "text/html": "<div>\n<style scoped>\n    .dataframe tbody tr th:only-of-type {\n        vertical-align: middle;\n    }\n\n    .dataframe tbody tr th {\n        vertical-align: top;\n    }\n\n    .dataframe thead th {\n        text-align: right;\n    }\n</style>\n<table border=\"1\" class=\"dataframe\">\n  <thead>\n    <tr style=\"text-align: right;\">\n      <th></th>\n      <th>Task name</th>\n      <th>Important score (1-5)</th>\n      <th>Time to finish</th>\n      <th>Num of blocks</th>\n    </tr>\n  </thead>\n  <tbody>\n    <tr>\n      <th>0</th>\n      <td>Complete math homework</td>\n      <td>4.0</td>\n      <td>60.0</td>\n      <td>2.0</td>\n    </tr>\n    <tr>\n      <th>1</th>\n      <td>Study for the Physics quiz</td>\n      <td>5.0</td>\n      <td>120.0</td>\n      <td>4.0</td>\n    </tr>\n    <tr>\n      <th>2</th>\n      <td>Coffee with Taylor</td>\n      <td>1.0</td>\n      <td>60.0</td>\n      <td>2.0</td>\n    </tr>\n    <tr>\n      <th>3</th>\n      <td>Read book</td>\n      <td>3.0</td>\n      <td>30.0</td>\n      <td>1.0</td>\n    </tr>\n    <tr>\n      <th>4</th>\n      <td>Complete programming project</td>\n      <td>3.0</td>\n      <td>150.0</td>\n      <td>5.0</td>\n    </tr>\n    <tr>\n      <th>5</th>\n      <td>Reply to emails</td>\n      <td>2.0</td>\n      <td>30.0</td>\n      <td>1.0</td>\n    </tr>\n    <tr>\n      <th>6</th>\n      <td>Finish essay</td>\n      <td>2.0</td>\n      <td>120.0</td>\n      <td>4.0</td>\n    </tr>\n    <tr>\n      <th>7</th>\n      <td>Watch movie</td>\n      <td>1.0</td>\n      <td>90.0</td>\n      <td>3.0</td>\n    </tr>\n    <tr>\n      <th>8</th>\n      <td>Call mom</td>\n      <td>2.0</td>\n      <td>30.0</td>\n      <td>1.0</td>\n    </tr>\n    <tr>\n      <th>9</th>\n      <td>MATH342 Homework</td>\n      <td>5.0</td>\n      <td>360.0</td>\n      <td>12.0</td>\n    </tr>\n    <tr>\n      <th>10</th>\n      <td>DA460 Homework</td>\n      <td>5.0</td>\n      <td>240.0</td>\n      <td>8.0</td>\n    </tr>\n    <tr>\n      <th>11</th>\n      <td>encryption plan</td>\n      <td>NaN</td>\n      <td>NaN</td>\n      <td>NaN</td>\n    </tr>\n    <tr>\n      <th>12</th>\n      <td>nightly review</td>\n      <td>NaN</td>\n      <td>NaN</td>\n      <td>NaN</td>\n    </tr>\n    <tr>\n      <th>13</th>\n      <td>weekly review</td>\n      <td>NaN</td>\n      <td>NaN</td>\n      <td>NaN</td>\n    </tr>\n    <tr>\n      <th>14</th>\n      <td>write out next days calendar</td>\n      <td>NaN</td>\n      <td>NaN</td>\n      <td>NaN</td>\n    </tr>\n    <tr>\n      <th>15</th>\n      <td>housekeeping</td>\n      <td>NaN</td>\n      <td>NaN</td>\n      <td>NaN</td>\n    </tr>\n    <tr>\n      <th>16</th>\n      <td>online profile review steps taken</td>\n      <td>NaN</td>\n      <td>NaN</td>\n      <td>NaN</td>\n    </tr>\n    <tr>\n      <th>17</th>\n      <td>proton w subs</td>\n      <td>NaN</td>\n      <td>NaN</td>\n      <td>NaN</td>\n    </tr>\n    <tr>\n      <th>18</th>\n      <td>python script for proton integration</td>\n      <td>NaN</td>\n      <td>NaN</td>\n      <td>NaN</td>\n    </tr>\n    <tr>\n      <th>19</th>\n      <td>SQLdbase for data</td>\n      <td>NaN</td>\n      <td>NaN</td>\n      <td>NaN</td>\n    </tr>\n    <tr>\n      <th>20</th>\n      <td>harden AWS</td>\n      <td>NaN</td>\n      <td>NaN</td>\n      <td>NaN</td>\n    </tr>\n    <tr>\n      <th>21</th>\n      <td>AWS certification</td>\n      <td>NaN</td>\n      <td>NaN</td>\n      <td>NaN</td>\n    </tr>\n    <tr>\n      <th>22</th>\n      <td>daily schedule practice</td>\n      <td>NaN</td>\n      <td>NaN</td>\n      <td>NaN</td>\n    </tr>\n    <tr>\n      <th>23</th>\n      <td>watch EP daily</td>\n      <td>4.0</td>\n      <td>30.0</td>\n      <td>1.0</td>\n    </tr>\n    <tr>\n      <th>24</th>\n      <td>adjust code for recurrent meetings</td>\n      <td>NaN</td>\n      <td>NaN</td>\n      <td>NaN</td>\n    </tr>\n    <tr>\n      <th>25</th>\n      <td>adjust code for calendar integration</td>\n      <td>NaN</td>\n      <td>NaN</td>\n      <td>NaN</td>\n    </tr>\n    <tr>\n      <th>26</th>\n      <td>adjust code for Django Todo integration</td>\n      <td>NaN</td>\n      <td>NaN</td>\n      <td>NaN</td>\n    </tr>\n  </tbody>\n</table>\n</div>"
     },
     "execution_count": 29,
     "metadata": {},
     "output_type": "execute_result"
    }
   ],
   "source": [
    "import pandas as pd\n",
    "tasks = pd.read_csv('tasks.csv')\n",
    "print(\"Task name\"+\"short phrase\", \"Importance Score\"+\"lower is less\", \"Time to Finish\"+\"Estimated Minutes\", \"Num of Blocks\"+\"30 min each\", )\n",
    "tasks"
   ],
   "metadata": {
    "collapsed": false,
    "pycharm": {
     "name": "#%%\n"
    }
   }
  },
  {
   "cell_type": "code",
   "execution_count": 30,
   "metadata": {
    "ExecuteTime": {
     "end_time": "2020-06-28T15:47:39.340917Z",
     "start_time": "2020-06-28T15:47:39.335211Z"
    }
   },
   "outputs": [
    {
     "data": {
      "text/plain": "1:00 AM    NaN\n1:30 AM    NaN\n2:00 AM    NaN\n2:30 AM    NaN\n3:00 AM    NaN\n3:30 AM    NaN\n4:00 AM    NaN\n4:30 AM    NaN\n5:00 AM    NaN\n5:30 AM    NaN\n6:00 AM    NaN\n6:30 AM    NaN\n7:00 AM    NaN\n7:30 AM    NaN\n8:00 AM    NaN\n8:30 AM    NaN\n9:00 AM    NaN\n9:30 AM    NaN\n10:00 AM   NaN\n10:30 AM   NaN\n11:00 AM   NaN\n11:30 AM   NaN\n12:00 PM   NaN\n12:30 PM   NaN\n1:00 PM    NaN\n1:30 PM    NaN\n2:00 PM    NaN\n2:30 PM    NaN\n3:00 PM    NaN\n3:30 PM    NaN\n4:00 PM    NaN\n4:30 PM    NaN\n5:00 PM    NaN\n5:30 PM    NaN\n6:00 PM    NaN\n6:30 PM    NaN\n7:00 PM    NaN\n7:30 PM    NaN\n8:00 PM    NaN\n8:30 PM    NaN\n9:00 PM    NaN\n9:30 PM    NaN\n10:00 PM   NaN\n10:30 PM   NaN\n11:00 PM   NaN\n11:30 PM   NaN\n12:00 AM   NaN\n12:30 AM   NaN\nName: Availability, dtype: float64"
     },
     "execution_count": 30,
     "metadata": {},
     "output_type": "execute_result"
    }
   ],
   "source": [
    "schedule = pd.read_csv('schedule.csv')['Availability']\n",
    "schedule"
   ]
  },
  {
   "cell_type": "markdown",
   "metadata": {},
   "source": [
    "# Input parameters:\n",
    "\n",
    "$s_i$: important score of task $i$\n",
    "\n",
    "$d_i$: number of time blocks needed to finish task $i$\n",
    "\n",
    "$b_t$: availability of time block \\; $b \\in \\{0,1\\}  $\n",
    "\n",
    "$B$: total number of time blocks\n",
    "\n",
    "$n$: total number of tasks"
   ]
  },
  {
   "cell_type": "code",
   "execution_count": 31,
   "metadata": {
    "ExecuteTime": {
     "end_time": "2020-06-28T15:47:40.481594Z",
     "start_time": "2020-06-28T15:47:40.473645Z"
    }
   },
   "outputs": [],
   "source": [
    "s = list(tasks['Important score (1-5)'])\n",
    "\n",
    "d = list(tasks['Num of blocks'])\n",
    "\n",
    "b = list(schedule)"
   ]
  },
  {
   "cell_type": "code",
   "execution_count": 32,
   "metadata": {
    "ExecuteTime": {
     "end_time": "2020-06-28T15:47:47.203011Z",
     "start_time": "2020-06-28T15:47:47.200774Z"
    }
   },
   "outputs": [],
   "source": [
    "B = len(b)\n",
    "n = len(s)"
   ]
  },
  {
   "cell_type": "code",
   "execution_count": 33,
   "metadata": {
    "ExecuteTime": {
     "end_time": "2020-06-28T15:47:51.936394Z",
     "start_time": "2020-06-28T15:47:51.930546Z"
    }
   },
   "outputs": [],
   "source": [
    "#Time blocks available\n",
    "A = sum(b)"
   ]
  },
  {
   "cell_type": "code",
   "execution_count": 34,
   "metadata": {
    "ExecuteTime": {
     "end_time": "2020-06-28T15:47:52.556876Z",
     "start_time": "2020-06-28T15:47:52.550954Z"
    }
   },
   "outputs": [],
   "source": [
    "from pulp import *"
   ]
  },
  {
   "cell_type": "markdown",
   "metadata": {},
   "source": [
    "$\\text{Maximize} \\;\\; \\sum_{i=1}^{n}\\sum_{t=1}^{B} s_{i}y_{it}$"
   ]
  },
  {
   "cell_type": "code",
   "execution_count": 35,
   "metadata": {
    "ExecuteTime": {
     "end_time": "2020-06-28T15:47:54.049369Z",
     "start_time": "2020-06-28T15:47:54.047196Z"
    }
   },
   "outputs": [],
   "source": [
    "prob = LpProblem(\"Schedule_Tasks\",LpMaximize)"
   ]
  },
  {
   "cell_type": "markdown",
   "metadata": {},
   "source": [
    "Decision variables:\n",
    "\n",
    "Whether or not to assign the task in a specific block of time\n",
    "\n",
    "$y_{it}$ = 1 if task $i$ is assigned to time $t$, 0 otherwise"
   ]
  },
  {
   "cell_type": "code",
   "execution_count": 36,
   "metadata": {
    "ExecuteTime": {
     "end_time": "2020-06-28T15:47:55.471825Z",
     "start_time": "2020-06-28T15:47:55.465697Z"
    }
   },
   "outputs": [],
   "source": [
    "#Define variable\n",
    "y = LpVariable.dicts('Block', [(i,t) for i in range(n) for t in range(B)],\n",
    "                    cat='Binary')"
   ]
  },
  {
   "cell_type": "code",
   "execution_count": 37,
   "metadata": {
    "ExecuteTime": {
     "end_time": "2020-06-28T15:47:56.291372Z",
     "start_time": "2020-06-28T15:47:56.267664Z"
    }
   },
   "outputs": [],
   "source": [
    "#Define objective\n",
    "prob += lpSum(s[i]*b[t]*y[(i,t)] for i in range(n) for t in range(B))"
   ]
  },
  {
   "cell_type": "markdown",
   "metadata": {},
   "source": [
    "# Constraints:\n",
    "\n",
    "Sum of the time blocks of the assigned tasks should be not greater than the number of available time blocks\n",
    "\n",
    "$\\sum_{i=1}^{n}\\sum_{t=1}^{B} y_{it} \\leq A$ (1)\n",
    "\n",
    "Total number of time blocks assigned for each task should not be greater than the time needed to finish the task\n",
    "\n",
    "$\\sum_{t=1}^{B} y_{it} \\leq d_i \\;; \\forall i = 1, 2, ..., n$ (2)\n",
    "\n",
    "No more than one task each block\n",
    "\n",
    "$\\sum_{i=1}^{n} y_{it} \\leq 1 \\;; \\forall t = 1, 2, ..., B$ (3)"
   ]
  },
  {
   "cell_type": "code",
   "execution_count": 38,
   "metadata": {
    "ExecuteTime": {
     "end_time": "2020-06-28T15:47:57.971749Z",
     "start_time": "2020-06-28T15:47:57.966352Z"
    }
   },
   "outputs": [],
   "source": [
    "prob += lpSum(y[(i,t)] for i in range(n) for t in range(B)) <= A #1\n",
    "\n",
    "\n",
    "for i in range(n):\n",
    "    prob += lpSum(y[(i,t)] for t in range(B)) <= d[i] #2\n",
    "\n",
    "for t in range(B):\n",
    "    prob += lpSum(y[(i,t)] for i in range(n)) <= 1 #3\n"
   ]
  },
  {
   "cell_type": "code",
   "execution_count": 39,
   "metadata": {
    "ExecuteTime": {
     "end_time": "2020-06-28T15:47:58.776990Z",
     "start_time": "2020-06-28T15:47:58.760068Z"
    }
   },
   "outputs": [
    {
     "ename": "PulpSolverError",
     "evalue": "Pulp: Error while executing /Users/owner/.conda/envs/Cuda_testing/lib/python3.7/site-packages/pulp/apis/../solverdir/cbc/osx/64/cbc",
     "output_type": "error",
     "traceback": [
      "\u001B[0;31m---------------------------------------------------------------------------\u001B[0m",
      "\u001B[0;31mPulpSolverError\u001B[0m                           Traceback (most recent call last)",
      "\u001B[0;32m<ipython-input-39-613465fcbb4d>\u001B[0m in \u001B[0;36m<module>\u001B[0;34m\u001B[0m\n\u001B[0;32m----> 1\u001B[0;31m \u001B[0mprob\u001B[0m\u001B[0;34m.\u001B[0m\u001B[0msolve\u001B[0m\u001B[0;34m(\u001B[0m\u001B[0;34m)\u001B[0m\u001B[0;34m\u001B[0m\u001B[0;34m\u001B[0m\u001B[0m\n\u001B[0m",
      "\u001B[0;32m~/.conda/envs/Cuda_testing/lib/python3.7/site-packages/pulp/pulp.py\u001B[0m in \u001B[0;36msolve\u001B[0;34m(self, solver, **kwargs)\u001B[0m\n\u001B[1;32m   1911\u001B[0m         \u001B[0;31m# time it\u001B[0m\u001B[0;34m\u001B[0m\u001B[0;34m\u001B[0m\u001B[0;34m\u001B[0m\u001B[0m\n\u001B[1;32m   1912\u001B[0m         \u001B[0mself\u001B[0m\u001B[0;34m.\u001B[0m\u001B[0mstartClock\u001B[0m\u001B[0;34m(\u001B[0m\u001B[0;34m)\u001B[0m\u001B[0;34m\u001B[0m\u001B[0;34m\u001B[0m\u001B[0m\n\u001B[0;32m-> 1913\u001B[0;31m         \u001B[0mstatus\u001B[0m \u001B[0;34m=\u001B[0m \u001B[0msolver\u001B[0m\u001B[0;34m.\u001B[0m\u001B[0mactualSolve\u001B[0m\u001B[0;34m(\u001B[0m\u001B[0mself\u001B[0m\u001B[0;34m,\u001B[0m \u001B[0;34m**\u001B[0m\u001B[0mkwargs\u001B[0m\u001B[0;34m)\u001B[0m\u001B[0;34m\u001B[0m\u001B[0;34m\u001B[0m\u001B[0m\n\u001B[0m\u001B[1;32m   1914\u001B[0m         \u001B[0mself\u001B[0m\u001B[0;34m.\u001B[0m\u001B[0mstopClock\u001B[0m\u001B[0;34m(\u001B[0m\u001B[0;34m)\u001B[0m\u001B[0;34m\u001B[0m\u001B[0;34m\u001B[0m\u001B[0m\n\u001B[1;32m   1915\u001B[0m         \u001B[0mself\u001B[0m\u001B[0;34m.\u001B[0m\u001B[0mrestoreObjective\u001B[0m\u001B[0;34m(\u001B[0m\u001B[0mwasNone\u001B[0m\u001B[0;34m,\u001B[0m \u001B[0mdummyVar\u001B[0m\u001B[0;34m)\u001B[0m\u001B[0;34m\u001B[0m\u001B[0;34m\u001B[0m\u001B[0m\n",
      "\u001B[0;32m~/.conda/envs/Cuda_testing/lib/python3.7/site-packages/pulp/apis/coin_api.py\u001B[0m in \u001B[0;36mactualSolve\u001B[0;34m(self, lp, **kwargs)\u001B[0m\n\u001B[1;32m    135\u001B[0m     \u001B[0;32mdef\u001B[0m \u001B[0mactualSolve\u001B[0m\u001B[0;34m(\u001B[0m\u001B[0mself\u001B[0m\u001B[0;34m,\u001B[0m \u001B[0mlp\u001B[0m\u001B[0;34m,\u001B[0m \u001B[0;34m**\u001B[0m\u001B[0mkwargs\u001B[0m\u001B[0;34m)\u001B[0m\u001B[0;34m:\u001B[0m\u001B[0;34m\u001B[0m\u001B[0;34m\u001B[0m\u001B[0m\n\u001B[1;32m    136\u001B[0m         \u001B[0;34m\"\"\"Solve a well formulated lp problem\"\"\"\u001B[0m\u001B[0;34m\u001B[0m\u001B[0;34m\u001B[0m\u001B[0m\n\u001B[0;32m--> 137\u001B[0;31m         \u001B[0;32mreturn\u001B[0m \u001B[0mself\u001B[0m\u001B[0;34m.\u001B[0m\u001B[0msolve_CBC\u001B[0m\u001B[0;34m(\u001B[0m\u001B[0mlp\u001B[0m\u001B[0;34m,\u001B[0m \u001B[0;34m**\u001B[0m\u001B[0mkwargs\u001B[0m\u001B[0;34m)\u001B[0m\u001B[0;34m\u001B[0m\u001B[0;34m\u001B[0m\u001B[0m\n\u001B[0m\u001B[1;32m    138\u001B[0m \u001B[0;34m\u001B[0m\u001B[0m\n\u001B[1;32m    139\u001B[0m     \u001B[0;32mdef\u001B[0m \u001B[0mavailable\u001B[0m\u001B[0;34m(\u001B[0m\u001B[0mself\u001B[0m\u001B[0;34m)\u001B[0m\u001B[0;34m:\u001B[0m\u001B[0;34m\u001B[0m\u001B[0;34m\u001B[0m\u001B[0m\n",
      "\u001B[0;32m~/.conda/envs/Cuda_testing/lib/python3.7/site-packages/pulp/apis/coin_api.py\u001B[0m in \u001B[0;36msolve_CBC\u001B[0;34m(self, lp, use_mps)\u001B[0m\n\u001B[1;32m    203\u001B[0m             \u001B[0mpipe\u001B[0m\u001B[0;34m.\u001B[0m\u001B[0mclose\u001B[0m\u001B[0;34m(\u001B[0m\u001B[0;34m)\u001B[0m\u001B[0;34m\u001B[0m\u001B[0;34m\u001B[0m\u001B[0m\n\u001B[1;32m    204\u001B[0m         \u001B[0;32mif\u001B[0m \u001B[0;32mnot\u001B[0m \u001B[0mos\u001B[0m\u001B[0;34m.\u001B[0m\u001B[0mpath\u001B[0m\u001B[0;34m.\u001B[0m\u001B[0mexists\u001B[0m\u001B[0;34m(\u001B[0m\u001B[0mtmpSol\u001B[0m\u001B[0;34m)\u001B[0m\u001B[0;34m:\u001B[0m\u001B[0;34m\u001B[0m\u001B[0;34m\u001B[0m\u001B[0m\n\u001B[0;32m--> 205\u001B[0;31m             \u001B[0;32mraise\u001B[0m \u001B[0mPulpSolverError\u001B[0m\u001B[0;34m(\u001B[0m\u001B[0;34m\"Pulp: Error while executing \"\u001B[0m \u001B[0;34m+\u001B[0m \u001B[0mself\u001B[0m\u001B[0;34m.\u001B[0m\u001B[0mpath\u001B[0m\u001B[0;34m)\u001B[0m\u001B[0;34m\u001B[0m\u001B[0;34m\u001B[0m\u001B[0m\n\u001B[0m\u001B[1;32m    206\u001B[0m         (\n\u001B[1;32m    207\u001B[0m             \u001B[0mstatus\u001B[0m\u001B[0;34m,\u001B[0m\u001B[0;34m\u001B[0m\u001B[0;34m\u001B[0m\u001B[0m\n",
      "\u001B[0;31mPulpSolverError\u001B[0m: Pulp: Error while executing /Users/owner/.conda/envs/Cuda_testing/lib/python3.7/site-packages/pulp/apis/../solverdir/cbc/osx/64/cbc"
     ]
    }
   ],
   "source": [
    "prob.solve()"
   ]
  },
  {
   "cell_type": "code",
   "execution_count": null,
   "metadata": {
    "ExecuteTime": {
     "end_time": "2020-06-28T15:47:59.896840Z",
     "start_time": "2020-06-28T15:47:59.892161Z"
    }
   },
   "outputs": [],
   "source": [
    "import numpy as np\n",
    "tasks = np.zeros((n,B))\n",
    "chosen_tasks = []\n",
    "print(\"Assignment accomplished!\")\n",
    "for i in range(n):\n",
    "    for t in range(B):\n",
    "        tasks[i][t]= y[(i,t)].varValue*(i+1)\n",
    "        if y[(i,t)].varValue == 1:\n",
    "            if i+1 not in chosen_tasks:\n",
    "                chosen_tasks.append(i+1)\n",
    "\n",
    "print('Chosen tasks are: {}'.format(chosen_tasks))\n",
    "\n"
   ]
  },
  {
   "cell_type": "code",
   "execution_count": null,
   "metadata": {
    "ExecuteTime": {
     "end_time": "2020-06-28T15:48:00.800585Z",
     "start_time": "2020-06-28T15:48:00.796290Z"
    }
   },
   "outputs": [],
   "source": [
    "tasks"
   ]
  },
  {
   "cell_type": "code",
   "execution_count": null,
   "metadata": {
    "ExecuteTime": {
     "end_time": "2020-06-28T15:48:01.940004Z",
     "start_time": "2020-06-28T15:48:01.706318Z"
    }
   },
   "outputs": [],
   "source": [
    "import numpy as np\n",
    "\n",
    "import matplotlib.pyplot as plt\n",
    "fig = plt.figure(figsize = (20,20))\n",
    "#1x1 grid, first subplot\n",
    "ax = fig.add_subplot(111)\n",
    "#Make the y-axis invisible\n",
    "ax.axes.get_yaxis().set_visible(False)\n",
    "#Set the ratio of y-unit to x-unit\n",
    "ax.set_aspect(1)\n",
    "\n",
    "def avg(a, b):\n",
    "    return (a + b) / 2.0\n",
    "\n",
    "#y is the order of row, row is the data of the rows\n",
    "for y, row in enumerate(tasks):\n",
    "    for x, col in enumerate(row):\n",
    "        x1 = [x, x+1]\n",
    "        y1 = [0, 0]\n",
    "        y2 = [3, 3]\n",
    "\n",
    "        if col == 1:\n",
    "            #Fill the area between two horizontal curves.\n",
    "            plt.fill_between(x1, y1, y2=y2, color='red')\n",
    "            #Fill the text in the middle of 2 units in x and y-axis\n",
    "            plt.text(avg(x1[0], x1[1]), avg(y1[0],y2[0]), \"0\",\n",
    "                    horizontalalignment='center', verticalalignment='center')\n",
    "\n",
    "        if col == 2 :\n",
    "            #Fill the area between two horizontal curves.\n",
    "            plt.fill_between(x1, y1, y2=y2, color='pink')\n",
    "            #Fill the text in the middle of 2 units in x and y-axis\n",
    "            plt.text(avg(x1[0], x1[1]), avg(y1[0],y2[0]), \"1\",\n",
    "                    horizontalalignment='center', verticalalignment='center')\n",
    "\n",
    "        if col == 4:\n",
    "            #Fill the area between two horizontal curves.\n",
    "            plt.fill_between(x1, y1, y2=y2, color='green')\n",
    "            #Fill the text in the middle of 2 units in x and y-axis\n",
    "            plt.text(avg(x1[0], x1[1]), avg(y1[0],y2[0]), \"3\",\n",
    "                    horizontalalignment='center', verticalalignment='center')\n",
    "\n",
    "        if col == 5:\n",
    "            #Fill the area between two horizontal curves.\n",
    "            plt.fill_between(x1, y1, y2=y2, color='purple')\n",
    "            #Fill the text in the middle of 2 units in x and y-axis\n",
    "            plt.text(avg(x1[0], x1[1]), avg(y1[0],y2[0]), \"4\",\n",
    "                    horizontalalignment='center', verticalalignment='center')\n",
    "\n",
    "        if col == 7:\n",
    "            #Fill the area between two horizontal curves.\n",
    "            plt.fill_between(x1, y1, y2=y2, color='blue')\n",
    "            #Fill the text in the middle of 2 units in x and y-axis\n",
    "            plt.text(avg(x1[0], x1[1]), avg(y1[0],y2[0]), \"6\",\n",
    "                    horizontalalignment='center', verticalalignment='center')\n",
    "\n",
    "\n",
    "ax.set_xlabel('Time')\n",
    "plt.show()\n",
    "\n",
    "\n",
    "\n"
   ]
  },
  {
   "cell_type": "code",
   "execution_count": null,
   "metadata": {
    "ExecuteTime": {
     "end_time": "2020-06-28T15:48:03.419502Z",
     "start_time": "2020-06-28T15:48:03.416463Z"
    }
   },
   "outputs": [],
   "source": [
    "pulp.value(prob.objective)"
   ]
  },
  {
   "cell_type": "code",
   "execution_count": null,
   "metadata": {
    "ExecuteTime": {
     "end_time": "2020-06-28T15:48:04.210350Z",
     "start_time": "2020-06-28T15:48:04.205176Z"
    }
   },
   "outputs": [],
   "source": [
    "prob.writeLP('task_problem.lp')"
   ]
  },
  {
   "cell_type": "markdown",
   "metadata": {},
   "source": [
    "Questions:\n",
    "-Is it necessary to complete one task in one day when get started?\n",
    "-How to make the tasks continuous once get started but doesn't need to finish on the same day if the time does not allow?\n",
    "    +precedence constraints (Single Machine Scheduling): One task cannot start until another task starts\n",
    "    +No overlap constraints: One task at a time"
   ]
  },
  {
   "cell_type": "markdown",
   "metadata": {},
   "source": [
    "Observations:\n",
    "-The tasks with highest scores would be attempted to fit into the schedule until either time blocks are ran out out the task is finished\n"
   ]
  }
 ],
 "metadata": {
  "kernelspec": {
   "display_name": "Python 3",
   "language": "python",
   "name": "python3"
  },
  "language_info": {
   "codemirror_mode": {
    "name": "ipython",
    "version": 3
   },
   "file_extension": ".py",
   "mimetype": "text/x-python",
   "name": "python",
   "nbconvert_exporter": "python",
   "pygments_lexer": "ipython3",
   "version": "3.7.6"
  },
  "latex_envs": {
   "LaTeX_envs_menu_present": true,
   "autoclose": false,
   "autocomplete": true,
   "bibliofile": "biblio.bib",
   "cite_by": "apalike",
   "current_citInitial": 1,
   "eqLabelWithNumbers": true,
   "eqNumInitial": 1,
   "hotkeys": {
    "equation": "Ctrl-E",
    "itemize": "Ctrl-I"
   },
   "labels_anchors": false,
   "latex_user_defs": false,
   "report_style_numbering": false,
   "user_envs_cfg": false
  },
  "toc": {
   "base_numbering": 1,
   "nav_menu": {},
   "number_sections": true,
   "sideBar": true,
   "skip_h1_title": false,
   "title_cell": "Table of Contents",
   "title_sidebar": "Contents",
   "toc_cell": false,
   "toc_position": {},
   "toc_section_display": true,
   "toc_window_display": false
  }
 },
 "nbformat": 4,
 "nbformat_minor": 2
}