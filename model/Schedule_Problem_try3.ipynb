{
 "cells": [
  {
   "cell_type": "markdown",
   "metadata": {
    "collapsed": true,
    "pycharm": {
     "name": "#%% md\n"
    }
   },
   "source": [
    "# Original File\n",
    "# DO NOT EDIT\n",
    "### Execution stepsYou have different tasks to finish within the day. 7 am is the earliest time and 10 pm is the latest time of the day\n",
    "to finish all the tasks. Since each time block is 30', there are (15 hours)*(2 blocks/hour)= 30 blocks. Each task\n",
    "takes different amount of time to complete and different important score. Given that there are scheduled meetings\n",
    "during the day that you cannot assign the tasks.  How do you assign the tasks to maximize the productivity?\n",
    "Note: Since there is limited time per day, you don't need to assign every task in one day, the goal is not to fit\n",
    "every task but to maximize the total score"
   ]
  },
  {
   "cell_type": "code",
   "execution_count": 24,
   "outputs": [],
   "source": [
    "import logging\n",
    "logger = logging.getLogger()\n",
    "fhandler = logging.FileHandler(filename='mylog.log', mode='a')\n",
    "formatter = logging.Formatter('%(asctime)s - %(name)s - %(levelname)s - %(message)s')\n",
    "fhandler.setFormatter(formatter)\n",
    "logger.addHandler(fhandler)\n",
    "logger.setLevel(logging.DEBUG)\n",
    "# TODO on .py conversion this first cell goes under \"if __name__ == '__main__':\" then /n and before main() is called"
   ],
   "metadata": {
    "collapsed": false,
    "pycharm": {
     "name": "#%%\n"
    }
   }
  },
  {
   "cell_type": "code",
   "execution_count": 25,
   "outputs": [
    {
     "name": "stdout",
     "output_type": "stream",
     "text": [
      "Requirement already satisfied: black[d] in /Users/owner/opt/anaconda3/envs/Task-scheduler-problem/lib/python3.7/site-packages (22.6.0)\r\n",
      "Requirement already satisfied: pathspec>=0.9.0 in /Users/owner/opt/anaconda3/envs/Task-scheduler-problem/lib/python3.7/site-packages (from black[d]) (0.9.0)\r\n",
      "Requirement already satisfied: platformdirs>=2 in /Users/owner/opt/anaconda3/envs/Task-scheduler-problem/lib/python3.7/site-packages (from black[d]) (2.5.2)\r\n",
      "Requirement already satisfied: typed-ast>=1.4.2 in /Users/owner/opt/anaconda3/envs/Task-scheduler-problem/lib/python3.7/site-packages (from black[d]) (1.4.3)\r\n",
      "Requirement already satisfied: typing-extensions>=3.10.0.0 in /Users/owner/opt/anaconda3/envs/Task-scheduler-problem/lib/python3.7/site-packages (from black[d]) (4.3.0)\r\n",
      "Requirement already satisfied: tomli>=1.1.0 in /Users/owner/opt/anaconda3/envs/Task-scheduler-problem/lib/python3.7/site-packages (from black[d]) (2.0.1)\r\n",
      "Requirement already satisfied: click>=8.0.0 in /Users/owner/opt/anaconda3/envs/Task-scheduler-problem/lib/python3.7/site-packages (from black[d]) (8.0.4)\r\n",
      "Requirement already satisfied: mypy-extensions>=0.4.3 in /Users/owner/opt/anaconda3/envs/Task-scheduler-problem/lib/python3.7/site-packages (from black[d]) (0.4.3)\r\n",
      "Requirement already satisfied: aiohttp>=3.7.4 in /Users/owner/opt/anaconda3/envs/Task-scheduler-problem/lib/python3.7/site-packages (from black[d]) (3.8.3)\r\n",
      "Requirement already satisfied: attrs>=17.3.0 in /Users/owner/opt/anaconda3/envs/Task-scheduler-problem/lib/python3.7/site-packages (from aiohttp>=3.7.4->black[d]) (21.4.0)\r\n",
      "Requirement already satisfied: frozenlist>=1.1.1 in /Users/owner/opt/anaconda3/envs/Task-scheduler-problem/lib/python3.7/site-packages (from aiohttp>=3.7.4->black[d]) (1.3.1)\r\n",
      "Requirement already satisfied: yarl<2.0,>=1.0 in /Users/owner/opt/anaconda3/envs/Task-scheduler-problem/lib/python3.7/site-packages (from aiohttp>=3.7.4->black[d]) (1.8.1)\r\n",
      "Requirement already satisfied: aiosignal>=1.1.2 in /Users/owner/opt/anaconda3/envs/Task-scheduler-problem/lib/python3.7/site-packages (from aiohttp>=3.7.4->black[d]) (1.2.0)\r\n",
      "Requirement already satisfied: charset-normalizer<3.0,>=2.0 in /Users/owner/.local/lib/python3.7/site-packages (from aiohttp>=3.7.4->black[d]) (2.0.4)\r\n",
      "Requirement already satisfied: async-timeout<5.0,>=4.0.0a3 in /Users/owner/opt/anaconda3/envs/Task-scheduler-problem/lib/python3.7/site-packages (from aiohttp>=3.7.4->black[d]) (4.0.2)\r\n",
      "Requirement already satisfied: multidict<7.0,>=4.5 in /Users/owner/opt/anaconda3/envs/Task-scheduler-problem/lib/python3.7/site-packages (from aiohttp>=3.7.4->black[d]) (6.0.2)\r\n",
      "Requirement already satisfied: asynctest==0.13.0 in /Users/owner/opt/anaconda3/envs/Task-scheduler-problem/lib/python3.7/site-packages (from aiohttp>=3.7.4->black[d]) (0.13.0)\r\n",
      "Requirement already satisfied: importlib-metadata in /Users/owner/opt/anaconda3/envs/Task-scheduler-problem/lib/python3.7/site-packages (from click>=8.0.0->black[d]) (4.11.3)\r\n",
      "Requirement already satisfied: idna>=2.0 in /Users/owner/opt/anaconda3/envs/Task-scheduler-problem/lib/python3.7/site-packages (from yarl<2.0,>=1.0->aiohttp>=3.7.4->black[d]) (3.4)\r\n",
      "Requirement already satisfied: zipp>=0.5 in /Users/owner/opt/anaconda3/envs/Task-scheduler-problem/lib/python3.7/site-packages (from importlib-metadata->click>=8.0.0->black[d]) (3.8.0)\r\n",
      "Requirement already satisfied: pandas in /Users/owner/opt/anaconda3/envs/Task-scheduler-problem/lib/python3.7/site-packages (1.0.5)\r\n",
      "Requirement already satisfied: numpy>=1.13.3 in /Users/owner/opt/anaconda3/envs/Task-scheduler-problem/lib/python3.7/site-packages (from pandas) (1.21.5)\r\n",
      "Requirement already satisfied: pytz>=2017.2 in /Users/owner/opt/anaconda3/envs/Task-scheduler-problem/lib/python3.7/site-packages (from pandas) (2020.1)\r\n",
      "Requirement already satisfied: python-dateutil>=2.6.1 in /Users/owner/opt/anaconda3/envs/Task-scheduler-problem/lib/python3.7/site-packages (from pandas) (2.8.1)\r\n",
      "Requirement already satisfied: six>=1.5 in /Users/owner/opt/anaconda3/envs/Task-scheduler-problem/lib/python3.7/site-packages (from python-dateutil>=2.6.1->pandas) (1.15.0)\r\n",
      "Requirement already satisfied: pulp in /Users/owner/opt/anaconda3/envs/Task-scheduler-problem/lib/python3.7/site-packages (2.6.0)\r\n",
      "Requirement already satisfied: tox in /Users/owner/opt/anaconda3/envs/Task-scheduler-problem/lib/python3.7/site-packages (3.27.0)\r\n",
      "Requirement already satisfied: filelock>=3.0.0 in /Users/owner/opt/anaconda3/envs/Task-scheduler-problem/lib/python3.7/site-packages (from tox) (3.8.0)\r\n",
      "Requirement already satisfied: py>=1.4.17 in /Users/owner/opt/anaconda3/envs/Task-scheduler-problem/lib/python3.7/site-packages (from tox) (1.11.0)\r\n",
      "Requirement already satisfied: importlib-metadata>=0.12 in /Users/owner/opt/anaconda3/envs/Task-scheduler-problem/lib/python3.7/site-packages (from tox) (4.11.3)\r\n",
      "Requirement already satisfied: pluggy>=0.12.0 in /Users/owner/opt/anaconda3/envs/Task-scheduler-problem/lib/python3.7/site-packages (from tox) (1.0.0)\r\n",
      "Requirement already satisfied: tomli>=2.0.1 in /Users/owner/opt/anaconda3/envs/Task-scheduler-problem/lib/python3.7/site-packages (from tox) (2.0.1)\r\n",
      "Requirement already satisfied: virtualenv!=20.0.0,!=20.0.1,!=20.0.2,!=20.0.3,!=20.0.4,!=20.0.5,!=20.0.6,!=20.0.7,>=16.0.0 in /Users/owner/opt/anaconda3/envs/Task-scheduler-problem/lib/python3.7/site-packages (from tox) (20.16.6)\r\n",
      "Requirement already satisfied: packaging>=14 in /Users/owner/opt/anaconda3/envs/Task-scheduler-problem/lib/python3.7/site-packages (from tox) (21.3)\r\n",
      "Requirement already satisfied: six>=1.14.0 in /Users/owner/opt/anaconda3/envs/Task-scheduler-problem/lib/python3.7/site-packages (from tox) (1.15.0)\r\n",
      "Requirement already satisfied: typing-extensions>=3.6.4 in /Users/owner/opt/anaconda3/envs/Task-scheduler-problem/lib/python3.7/site-packages (from importlib-metadata>=0.12->tox) (4.3.0)\r\n",
      "Requirement already satisfied: zipp>=0.5 in /Users/owner/opt/anaconda3/envs/Task-scheduler-problem/lib/python3.7/site-packages (from importlib-metadata>=0.12->tox) (3.8.0)\r\n",
      "Requirement already satisfied: pyparsing!=3.0.5,>=2.0.2 in /Users/owner/opt/anaconda3/envs/Task-scheduler-problem/lib/python3.7/site-packages (from packaging>=14->tox) (2.4.7)\r\n",
      "Requirement already satisfied: distlib<1,>=0.3.6 in /Users/owner/opt/anaconda3/envs/Task-scheduler-problem/lib/python3.7/site-packages (from virtualenv!=20.0.0,!=20.0.1,!=20.0.2,!=20.0.3,!=20.0.4,!=20.0.5,!=20.0.6,!=20.0.7,>=16.0.0->tox) (0.3.6)\r\n",
      "Requirement already satisfied: platformdirs<3,>=2.4 in /Users/owner/opt/anaconda3/envs/Task-scheduler-problem/lib/python3.7/site-packages (from virtualenv!=20.0.0,!=20.0.1,!=20.0.2,!=20.0.3,!=20.0.4,!=20.0.5,!=20.0.6,!=20.0.7,>=16.0.0->tox) (2.5.2)\r\n",
      "Requirement already satisfied: matplotlib in /Users/owner/opt/anaconda3/envs/Task-scheduler-problem/lib/python3.7/site-packages (3.2.2)\r\n",
      "Requirement already satisfied: numpy>=1.11 in /Users/owner/opt/anaconda3/envs/Task-scheduler-problem/lib/python3.7/site-packages (from matplotlib) (1.21.5)\r\n",
      "Requirement already satisfied: kiwisolver>=1.0.1 in /Users/owner/opt/anaconda3/envs/Task-scheduler-problem/lib/python3.7/site-packages (from matplotlib) (1.2.0)\r\n",
      "Requirement already satisfied: python-dateutil>=2.1 in /Users/owner/opt/anaconda3/envs/Task-scheduler-problem/lib/python3.7/site-packages (from matplotlib) (2.8.1)\r\n",
      "Requirement already satisfied: pyparsing!=2.0.4,!=2.1.2,!=2.1.6,>=2.0.1 in /Users/owner/opt/anaconda3/envs/Task-scheduler-problem/lib/python3.7/site-packages (from matplotlib) (2.4.7)\r\n",
      "Requirement already satisfied: cycler>=0.10 in /Users/owner/opt/anaconda3/envs/Task-scheduler-problem/lib/python3.7/site-packages (from matplotlib) (0.10.0)\r\n",
      "Requirement already satisfied: six in /Users/owner/opt/anaconda3/envs/Task-scheduler-problem/lib/python3.7/site-packages (from cycler>=0.10->matplotlib) (1.15.0)\r\n",
      "Requirement already satisfied: openpyxl in /Users/owner/opt/anaconda3/envs/Task-scheduler-problem/lib/python3.7/site-packages (3.0.10)\r\n",
      "Requirement already satisfied: et-xmlfile in /Users/owner/opt/anaconda3/envs/Task-scheduler-problem/lib/python3.7/site-packages (from openpyxl) (1.1.0)\r\n"
     ]
    }
   ],
   "source": [
    "!pip3 install black[d]\n",
    "!pip3 install pandas\n",
    "!pip3 install pulp\n",
    "!pip3 install tox\n",
    "!pip3 install matplotlib\n",
    "!pip3 install openpyxl\n",
    "# TODO these would move into the requirements.txt file then setup"
   ],
   "metadata": {
    "collapsed": false,
    "pycharm": {
     "name": "#%%\n"
    }
   }
  },
  {
   "cell_type": "code",
   "execution_count": 26,
   "outputs": [],
   "source": [
    "import pandas as pd\n",
    "import blackd\n",
    "import pulp\n",
    "import tox\n",
    "import matplotlib\n",
    "import openpyxl"
   ],
   "metadata": {
    "collapsed": false,
    "pycharm": {
     "name": "#%%\n"
    }
   }
  },
  {
   "cell_type": "code",
   "execution_count": 27,
   "outputs": [
    {
     "data": {
      "text/plain": "                                            Task name  Important score (1-5)  \\\n0                    README.md data flow for ALL DATA                      1   \n1                  Complete Mastery of Large Datasets                      1   \n2                                 Triage next 5 books                      2   \n3                                           Laundry-r                      3   \n4                        11am email brk 3pm email brk                      3   \n5                                dual processor tools                      3   \n6               Weekend todo list drill induction etc                      4   \n7                                  TAM Analysis start                      4   \n8                visualize my why photo ideal day etc                      5   \n9                       MasterGoal xlsx import sample                      5   \n10  review passwords and rev andrewschell3 visibility                      5   \n11                                    Project imports                      5   \n12             slave training routine start-sub-slave                      5   \n13                study slave training breaking minds                      5   \n14                                  scraping linkedin                      5   \n\n    Time to finish  Num of blocks  \n0               60              2  \n1              180              6  \n2              120              4  \n3               60              2  \n4               30              1  \n5               60              2  \n6               30              1  \n7              120              4  \n8              150              5  \n9               90              3  \n10              60              2  \n11              30              1  \n12              30              1  \n13             120              4  \n14              60              2  ",
      "text/html": "<div>\n<style scoped>\n    .dataframe tbody tr th:only-of-type {\n        vertical-align: middle;\n    }\n\n    .dataframe tbody tr th {\n        vertical-align: top;\n    }\n\n    .dataframe thead th {\n        text-align: right;\n    }\n</style>\n<table border=\"1\" class=\"dataframe\">\n  <thead>\n    <tr style=\"text-align: right;\">\n      <th></th>\n      <th>Task name</th>\n      <th>Important score (1-5)</th>\n      <th>Time to finish</th>\n      <th>Num of blocks</th>\n    </tr>\n  </thead>\n  <tbody>\n    <tr>\n      <th>0</th>\n      <td>README.md data flow for ALL DATA</td>\n      <td>1</td>\n      <td>60</td>\n      <td>2</td>\n    </tr>\n    <tr>\n      <th>1</th>\n      <td>Complete Mastery of Large Datasets</td>\n      <td>1</td>\n      <td>180</td>\n      <td>6</td>\n    </tr>\n    <tr>\n      <th>2</th>\n      <td>Triage next 5 books</td>\n      <td>2</td>\n      <td>120</td>\n      <td>4</td>\n    </tr>\n    <tr>\n      <th>3</th>\n      <td>Laundry-r</td>\n      <td>3</td>\n      <td>60</td>\n      <td>2</td>\n    </tr>\n    <tr>\n      <th>4</th>\n      <td>11am email brk 3pm email brk</td>\n      <td>3</td>\n      <td>30</td>\n      <td>1</td>\n    </tr>\n    <tr>\n      <th>5</th>\n      <td>dual processor tools</td>\n      <td>3</td>\n      <td>60</td>\n      <td>2</td>\n    </tr>\n    <tr>\n      <th>6</th>\n      <td>Weekend todo list drill induction etc</td>\n      <td>4</td>\n      <td>30</td>\n      <td>1</td>\n    </tr>\n    <tr>\n      <th>7</th>\n      <td>TAM Analysis start</td>\n      <td>4</td>\n      <td>120</td>\n      <td>4</td>\n    </tr>\n    <tr>\n      <th>8</th>\n      <td>visualize my why photo ideal day etc</td>\n      <td>5</td>\n      <td>150</td>\n      <td>5</td>\n    </tr>\n    <tr>\n      <th>9</th>\n      <td>MasterGoal xlsx import sample</td>\n      <td>5</td>\n      <td>90</td>\n      <td>3</td>\n    </tr>\n    <tr>\n      <th>10</th>\n      <td>review passwords and rev andrewschell3 visibility</td>\n      <td>5</td>\n      <td>60</td>\n      <td>2</td>\n    </tr>\n    <tr>\n      <th>11</th>\n      <td>Project imports</td>\n      <td>5</td>\n      <td>30</td>\n      <td>1</td>\n    </tr>\n    <tr>\n      <th>12</th>\n      <td>slave training routine start-sub-slave</td>\n      <td>5</td>\n      <td>30</td>\n      <td>1</td>\n    </tr>\n    <tr>\n      <th>13</th>\n      <td>study slave training breaking minds</td>\n      <td>5</td>\n      <td>120</td>\n      <td>4</td>\n    </tr>\n    <tr>\n      <th>14</th>\n      <td>scraping linkedin</td>\n      <td>5</td>\n      <td>60</td>\n      <td>2</td>\n    </tr>\n  </tbody>\n</table>\n</div>"
     },
     "execution_count": 27,
     "metadata": {},
     "output_type": "execute_result"
    }
   ],
   "source": [
    "task_file = '~/sbox/PyCharmProjects/Task-scheduler-problem/old_code/Andrew_Tasks.csv'\n",
    "tasks = pd.read_csv(task_file)\n",
    "tasks"
   ],
   "metadata": {
    "collapsed": false,
    "pycharm": {
     "name": "#%%\n"
    }
   }
  },
  {
   "cell_type": "code",
   "execution_count": 28,
   "outputs": [
    {
     "data": {
      "text/plain": "0     0\n1     0\n2     0\n3     0\n4     0\n5     0\n6     0\n7     0\n8     0\n9     1\n10    1\n11    1\n12    1\n13    1\n14    0\n15    0\n16    0\n17    1\n18    0\n19    0\n20    0\n21    1\n22    1\n23    1\n24    1\n25    1\n26    1\n27    1\n28    1\n29    1\n30    1\n31    1\n32    1\n33    1\n34    1\n35    0\n36    1\n37    0\n38    1\n39    1\n40    1\n41    1\n42    0\n43    0\n44    0\n45    0\n46    0\n47    0\nName: Availability, dtype: int64"
     },
     "execution_count": 28,
     "metadata": {},
     "output_type": "execute_result"
    }
   ],
   "source": [
    "schedule = pd.read_csv('schedule.csv')['Availability']\n",
    "schedule"
   ],
   "metadata": {
    "collapsed": false,
    "pycharm": {
     "name": "#%%\n"
    }
   }
  },
  {
   "cell_type": "markdown",
   "source": [
    "# Input parameters:\n",
    "\n",
    "$s_i$: important score of task $i$\n",
    "\n",
    "$d_i$: number of time blocks needed to finish task $i$\n",
    "\n",
    "$b_t$: availability of time block \\; $b \\in \\{0,1\\}  $\n",
    "\n",
    "$B$: total number of time blocks\n",
    "\n",
    "$n$: total number of tasks"
   ],
   "metadata": {
    "collapsed": false,
    "pycharm": {
     "name": "#%% md\n"
    }
   }
  },
  {
   "cell_type": "code",
   "execution_count": 29,
   "outputs": [
    {
     "data": {
      "text/plain": "([1, 1, 2, 3, 3, 3, 4, 4, 5, 5, 5, 5, 5, 5, 5],\n [2, 6, 4, 2, 1, 2, 1, 4, 5, 3, 2, 1, 1, 4, 2],\n [0,\n  0,\n  0,\n  0,\n  0,\n  0,\n  0,\n  0,\n  0,\n  1,\n  1,\n  1,\n  1,\n  1,\n  0,\n  0,\n  0,\n  1,\n  0,\n  0,\n  0,\n  1,\n  1,\n  1,\n  1,\n  1,\n  1,\n  1,\n  1,\n  1,\n  1,\n  1,\n  1,\n  1,\n  1,\n  0,\n  1,\n  0,\n  1,\n  1,\n  1,\n  1,\n  0,\n  0,\n  0,\n  0,\n  0,\n  0])"
     },
     "execution_count": 29,
     "metadata": {},
     "output_type": "execute_result"
    }
   ],
   "source": [
    "s = list(tasks['Important score (1-5)'])\n",
    "\n",
    "d = list(tasks['Num of blocks'])\n",
    "\n",
    "b = list(schedule)\n",
    "s,d,b"
   ],
   "metadata": {
    "collapsed": false,
    "pycharm": {
     "name": "#%%\n"
    }
   }
  },
  {
   "cell_type": "code",
   "execution_count": 30,
   "outputs": [],
   "source": [
    "B = len(b)\n",
    "n = len(s)"
   ],
   "metadata": {
    "collapsed": false,
    "pycharm": {
     "name": "#%%\n"
    }
   }
  },
  {
   "cell_type": "code",
   "execution_count": 31,
   "outputs": [],
   "source": [
    "#Time blocks available\n",
    "A = sum(b)"
   ],
   "metadata": {
    "collapsed": false,
    "pycharm": {
     "name": "#%%\n"
    }
   }
  },
  {
   "cell_type": "code",
   "execution_count": 32,
   "outputs": [],
   "source": [
    "from pulp import *"
   ],
   "metadata": {
    "collapsed": false,
    "pycharm": {
     "name": "#%%\n"
    }
   }
  },
  {
   "cell_type": "markdown",
   "source": [
    "$\\text{Maximize} \\;\\; \\sum_{i=1}^{n}\\sum_{t=1}^{B} s_{i}y_{it}$"
   ],
   "metadata": {
    "collapsed": false,
    "pycharm": {
     "name": "#%% md\n"
    }
   }
  },
  {
   "cell_type": "code",
   "execution_count": 33,
   "outputs": [],
   "source": [
    "prob = LpProblem(\"Schedule_Tasks\",LpMaximize)"
   ],
   "metadata": {
    "collapsed": false,
    "pycharm": {
     "name": "#%%\n"
    }
   }
  },
  {
   "cell_type": "markdown",
   "source": [
    ".md Decision variables:\n",
    "\n",
    "Whether or not to assign the task in a specific block of time\n",
    "\n",
    "$y_{it}$ = 1 if task $i$ is assigned to time $t$, 0 otherwise\n",
    "$$"
   ],
   "metadata": {
    "collapsed": false,
    "pycharm": {
     "name": "#%% md\n"
    }
   }
  },
  {
   "cell_type": "code",
   "execution_count": 34,
   "outputs": [],
   "source": [
    "#Define variable\n",
    "y = LpVariable.dicts('Block', [(i,t) for i in range(n) for t in range(B)],\n",
    "                    cat='Binary')"
   ],
   "metadata": {
    "collapsed": false,
    "pycharm": {
     "name": "#%%\n"
    }
   }
  },
  {
   "cell_type": "code",
   "execution_count": 35,
   "outputs": [],
   "source": [
    "#Define objective\n",
    "prob += lpSum(s[i]*b[t]*y[(i,t)] for i in range(n) for t in range(B))"
   ],
   "metadata": {
    "collapsed": false,
    "pycharm": {
     "name": "#%%\n"
    }
   }
  },
  {
   "cell_type": "markdown",
   "source": [
    "# Constraints:\n",
    "\n",
    "Sum of the time blocks of the assigned tasks should be not greater than the number of available time blocks\n",
    "\n",
    "$\\sum_{i=1}^{n}\\sum_{t=1}^{B} y_{it} \\leq A$ (1)\n",
    "\n",
    "Total number of time blocks assigned for each task should not be greater than the time needed to finish the task\n",
    "\n",
    "$\\sum_{t=1}^{B} y_{it} \\leq d_i \\;; \\forall i = 1, 2, ..., n$ (2)\n",
    "\n",
    "No more than one task each block\n",
    "\n",
    "$\\sum_{i=1}^{n} y_{it} \\leq 1 \\;; \\forall t = 1, 2, ..., B$ (3)"
   ],
   "metadata": {
    "collapsed": false,
    "pycharm": {
     "name": "#%% md\n"
    }
   }
  },
  {
   "cell_type": "code",
   "execution_count": 36,
   "outputs": [],
   "source": [
    "prob += lpSum(y[(i,t)] for i in range(n) for t in range(B)) <= A #1\n",
    "\n",
    "for i in range(n):\n",
    "    prob += lpSum(y[(i,t)] for t in range(B)) <= d[i] #2\n",
    "\n",
    "for t in range(B):\n",
    "    prob += lpSum(y[(i,t)] for i in range(n)) <= 1 #3"
   ],
   "metadata": {
    "collapsed": false,
    "pycharm": {
     "name": "#%%\n"
    }
   }
  },
  {
   "cell_type": "code",
   "execution_count": 37,
   "outputs": [
    {
     "name": "stdout",
     "output_type": "stream",
     "text": [
      "Welcome to the CBC MILP Solver \n",
      "Version: 2.10.3 \n",
      "Build Date: Dec 15 2019 \n",
      "\n",
      "command line - /Users/owner/opt/anaconda3/envs/Task-scheduler-problem/lib/python3.7/site-packages/pulp/apis/../solverdir/cbc/osx/64/cbc /var/folders/jq/9dbfmyhn6s98d705yc81nqym0000gn/T/73cb0abd823d42239056c16cd949c93a-pulp.mps max timeMode elapsed branch printingOptions all solution /var/folders/jq/9dbfmyhn6s98d705yc81nqym0000gn/T/73cb0abd823d42239056c16cd949c93a-pulp.sol (default strategy 1)\n",
      "At line 2 NAME          MODEL\n",
      "At line 3 ROWS\n",
      "At line 69 COLUMNS\n",
      "At line 4045 RHS\n",
      "At line 4110 BOUNDS\n",
      "At line 4831 ENDATA\n",
      "Problem MODEL has 64 rows, 720 columns and 2160 elements\n",
      "Coin0008I MODEL read with 0 errors\n",
      "Option for timeMode changed from cpu to elapsed\n",
      "Continuous objective value is 116 - 0.00 seconds\n",
      "Cgl0004I processed model has 41 rows, 375 columns (375 integer (375 of which binary)) and 1125 elements\n",
      "Cutoff increment increased from 1e-05 to 0.9999\n",
      "Cbc0038I Initial state - 0 integers unsatisfied sum - 0\n",
      "Cbc0038I Solution found of -116\n",
      "Cbc0038I Before mini branch and bound, 375 integers at bound fixed and 0 continuous\n",
      "Cbc0038I Mini branch and bound did not improve solution (0.01 seconds)\n",
      "Cbc0038I After 0.01 seconds - Feasibility pump exiting with objective of -116 - took 0.00 seconds\n",
      "Cbc0012I Integer solution of -116 found by feasibility pump after 0 iterations and 0 nodes (0.01 seconds)\n",
      "Cbc0001I Search completed - best objective -116, took 0 iterations and 0 nodes (0.01 seconds)\n",
      "Cbc0035I Maximum depth 0, 0 variables fixed on reduced cost\n",
      "Cuts at root node changed objective from -116 to -116\n",
      "Probing was tried 0 times and created 0 cuts of which 0 were active after adding rounds of cuts (0.000 seconds)\n",
      "Gomory was tried 0 times and created 0 cuts of which 0 were active after adding rounds of cuts (0.000 seconds)\n",
      "Knapsack was tried 0 times and created 0 cuts of which 0 were active after adding rounds of cuts (0.000 seconds)\n",
      "Clique was tried 0 times and created 0 cuts of which 0 were active after adding rounds of cuts (0.000 seconds)\n",
      "MixedIntegerRounding2 was tried 0 times and created 0 cuts of which 0 were active after adding rounds of cuts (0.000 seconds)\n",
      "FlowCover was tried 0 times and created 0 cuts of which 0 were active after adding rounds of cuts (0.000 seconds)\n",
      "TwoMirCuts was tried 0 times and created 0 cuts of which 0 were active after adding rounds of cuts (0.000 seconds)\n",
      "ZeroHalf was tried 0 times and created 0 cuts of which 0 were active after adding rounds of cuts (0.000 seconds)\n",
      "\n",
      "Result - Optimal solution found\n",
      "\n",
      "Objective value:                116.00000000\n",
      "Enumerated nodes:               0\n",
      "Total iterations:               0\n",
      "Time (CPU seconds):             0.01\n",
      "Time (Wallclock seconds):       0.01\n",
      "\n",
      "Option for printingOptions changed from normal to all\n",
      "Total time (CPU seconds):       0.01   (Wallclock seconds):       0.02\n",
      "\n"
     ]
    },
    {
     "data": {
      "text/plain": "1"
     },
     "execution_count": 37,
     "metadata": {},
     "output_type": "execute_result"
    }
   ],
   "source": [
    "prob.solve()"
   ],
   "metadata": {
    "collapsed": false,
    "pycharm": {
     "name": "#%%\n"
    }
   }
  },
  {
   "cell_type": "code",
   "execution_count": 38,
   "outputs": [
    {
     "name": "stdout",
     "output_type": "stream",
     "text": [
      "Assignment accomplished!\n",
      "Chosen tasks are: [4, 5, 7, 8, 9, 10, 11, 12, 13, 14, 15]\n"
     ]
    }
   ],
   "source": [
    "import numpy as np\n",
    "\n",
    "\n",
    "tasks_zero = np.zeros((n,B))\n",
    "chosen_tasks = []\n",
    "print(\"Assignment accomplished!\")\n",
    "for i in range(n):\n",
    "    for t in range(B):\n",
    "        tasks_zero[i][t]= y[(i,t)].varValue*(i+1)\n",
    "        if y[(i,t)].varValue == 1:\n",
    "            if i+1 not in chosen_tasks:\n",
    "                chosen_tasks.append(i+1)\n",
    "\n",
    "print('Chosen tasks are: {}'.format(chosen_tasks))\n"
   ],
   "metadata": {
    "collapsed": false,
    "pycharm": {
     "name": "#%%\n"
    }
   }
  },
  {
   "cell_type": "markdown",
   "source": [
    "# TODO disabled printing, create switch for user option\n",
    "# tasks_zero"
   ],
   "metadata": {
    "collapsed": false,
    "pycharm": {
     "name": "#%% md\n"
    }
   }
  },
  {
   "cell_type": "code",
   "execution_count": 39,
   "outputs": [
    {
     "data": {
      "text/plain": "<Figure size 2000x2000 with 1 Axes>",
      "image/png": "[encoded data removed]"
     },
     "metadata": {},
     "output_type": "display_data"
    }
   ],
   "source": [
    "import numpy as np\n",
    "import matplotlib.pyplot as plt\n",
    "\n",
    "\n",
    "fig = plt.figure(figsize = (20,20))\n",
    "#1x1 grid, first subplot\n",
    "ax = fig.add_subplot(111)\n",
    "#Make the y-axis invisible\n",
    "ax.axes.get_yaxis().set_visible(True) # default is false\n",
    "#Set the ratio of y-unit to x-unit\n",
    "ax.set_aspect(1)\n",
    "\n",
    "\n",
    "def avg(a, b):\n",
    "    \"\"\"\n",
    "\n",
    "    :param a:\n",
    "    :param b:\n",
    "    :return:\n",
    "    \"\"\"\n",
    "    return (a + b) / 2.0\n",
    "\n",
    "#y is the order of row, row is the data of the rows\n",
    "for y, row in enumerate(tasks_zero):\n",
    "    for x, col in enumerate(row):\n",
    "        x1 = [x, x+1]\n",
    "        y1 = [0, 0]\n",
    "        y2 = [3, 3]\n",
    "\n",
    "        if col == 1:\n",
    "            #Fill the area between two horizontal curves.\n",
    "            plt.fill_between(x1, y1, y2=y2, color='red')\n",
    "            #Fill the text in the middle of 2 units in x and y-axis\n",
    "            plt.text(avg(x1[0], x1[1]), avg(y1[0],y2[0]), \"0\",\n",
    "                    horizontalalignment='center', verticalalignment='center')\n",
    "\n",
    "        if col == 2 :\n",
    "            #Fill the area between two horizontal curves.\n",
    "            plt.fill_between(x1, y1, y2=y2, color='pink')\n",
    "            #Fill the text in the middle of 2 units in x and y-axis\n",
    "            plt.text(avg(x1[0], x1[1]), avg(y1[0],y2[0]), \"1\",\n",
    "                    horizontalalignment='center', verticalalignment='center')\n",
    "\n",
    "        if col == 4:\n",
    "            #Fill the area between two horizontal curves.\n",
    "            plt.fill_between(x1, y1, y2=y2, color='green')\n",
    "            #Fill the text in the middle of 2 units in x and y-axis\n",
    "            plt.text(avg(x1[0], x1[1]), avg(y1[0],y2[0]), \"3\",\n",
    "                    horizontalalignment='center', verticalalignment='center')\n",
    "\n",
    "        if col == 5:\n",
    "            #Fill the area between two horizontal curves.\n",
    "            plt.fill_between(x1, y1, y2=y2, color='purple')\n",
    "            #Fill the text in the middle of 2 units in x and y-axis\n",
    "            plt.text(avg(x1[0], x1[1]), avg(y1[0],y2[0]), \"4\",\n",
    "                    horizontalalignment='center', verticalalignment='center')\n",
    "\n",
    "        if col == 7:\n",
    "            #Fill the area between two horizontal curves.\n",
    "            plt.fill_between(x1, y1, y2=y2, color='blue')\n",
    "            #Fill the text in the middle of 2 units in x and y-axis\n",
    "            plt.text(avg(x1[0], x1[1]), avg(y1[0],y2[0]), \"6\",\n",
    "                    horizontalalignment='center', verticalalignment='center')\n",
    "\n",
    "\n",
    "ax.set_xlabel('Time')\n",
    "plt.show()"
   ],
   "metadata": {
    "collapsed": false,
    "pycharm": {
     "name": "#%%\n"
    }
   }
  },
  {
   "cell_type": "code",
   "execution_count": 40,
   "outputs": [
    {
     "data": {
      "text/plain": "116.0"
     },
     "execution_count": 40,
     "metadata": {},
     "output_type": "execute_result"
    }
   ],
   "source": [
    "pulp.value(prob.objective)"
   ],
   "metadata": {
    "collapsed": false,
    "pycharm": {
     "name": "#%%\n"
    }
   }
  },
  {
   "cell_type": "code",
   "execution_count": 41,
   "outputs": [
    {
     "data": {
      "text/plain": "[Block_(0,_0),\n Block_(0,_1),\n Block_(0,_10),\n Block_(0,_11),\n Block_(0,_12),\n Block_(0,_13),\n Block_(0,_14),\n Block_(0,_15),\n Block_(0,_16),\n Block_(0,_17),\n Block_(0,_18),\n Block_(0,_19),\n Block_(0,_2),\n Block_(0,_20),\n Block_(0,_21),\n Block_(0,_22),\n Block_(0,_23),\n Block_(0,_24),\n Block_(0,_25),\n Block_(0,_26),\n Block_(0,_27),\n Block_(0,_28),\n Block_(0,_29),\n Block_(0,_3),\n Block_(0,_30),\n Block_(0,_31),\n Block_(0,_32),\n Block_(0,_33),\n Block_(0,_34),\n Block_(0,_35),\n Block_(0,_36),\n Block_(0,_37),\n Block_(0,_38),\n Block_(0,_39),\n Block_(0,_4),\n Block_(0,_40),\n Block_(0,_41),\n Block_(0,_42),\n Block_(0,_43),\n Block_(0,_44),\n Block_(0,_45),\n Block_(0,_46),\n Block_(0,_47),\n Block_(0,_5),\n Block_(0,_6),\n Block_(0,_7),\n Block_(0,_8),\n Block_(0,_9),\n Block_(1,_0),\n Block_(1,_1),\n Block_(1,_10),\n Block_(1,_11),\n Block_(1,_12),\n Block_(1,_13),\n Block_(1,_14),\n Block_(1,_15),\n Block_(1,_16),\n Block_(1,_17),\n Block_(1,_18),\n Block_(1,_19),\n Block_(1,_2),\n Block_(1,_20),\n Block_(1,_21),\n Block_(1,_22),\n Block_(1,_23),\n Block_(1,_24),\n Block_(1,_25),\n Block_(1,_26),\n Block_(1,_27),\n Block_(1,_28),\n Block_(1,_29),\n Block_(1,_3),\n Block_(1,_30),\n Block_(1,_31),\n Block_(1,_32),\n Block_(1,_33),\n Block_(1,_34),\n Block_(1,_35),\n Block_(1,_36),\n Block_(1,_37),\n Block_(1,_38),\n Block_(1,_39),\n Block_(1,_4),\n Block_(1,_40),\n Block_(1,_41),\n Block_(1,_42),\n Block_(1,_43),\n Block_(1,_44),\n Block_(1,_45),\n Block_(1,_46),\n Block_(1,_47),\n Block_(1,_5),\n Block_(1,_6),\n Block_(1,_7),\n Block_(1,_8),\n Block_(1,_9),\n Block_(10,_0),\n Block_(10,_1),\n Block_(10,_10),\n Block_(10,_11),\n Block_(10,_12),\n Block_(10,_13),\n Block_(10,_14),\n Block_(10,_15),\n Block_(10,_16),\n Block_(10,_17),\n Block_(10,_18),\n Block_(10,_19),\n Block_(10,_2),\n Block_(10,_20),\n Block_(10,_21),\n Block_(10,_22),\n Block_(10,_23),\n Block_(10,_24),\n Block_(10,_25),\n Block_(10,_26),\n Block_(10,_27),\n Block_(10,_28),\n Block_(10,_29),\n Block_(10,_3),\n Block_(10,_30),\n Block_(10,_31),\n Block_(10,_32),\n Block_(10,_33),\n Block_(10,_34),\n Block_(10,_35),\n Block_(10,_36),\n Block_(10,_37),\n Block_(10,_38),\n Block_(10,_39),\n Block_(10,_4),\n Block_(10,_40),\n Block_(10,_41),\n Block_(10,_42),\n Block_(10,_43),\n Block_(10,_44),\n Block_(10,_45),\n Block_(10,_46),\n Block_(10,_47),\n Block_(10,_5),\n Block_(10,_6),\n Block_(10,_7),\n Block_(10,_8),\n Block_(10,_9),\n Block_(11,_0),\n Block_(11,_1),\n Block_(11,_10),\n Block_(11,_11),\n Block_(11,_12),\n Block_(11,_13),\n Block_(11,_14),\n Block_(11,_15),\n Block_(11,_16),\n Block_(11,_17),\n Block_(11,_18),\n Block_(11,_19),\n Block_(11,_2),\n Block_(11,_20),\n Block_(11,_21),\n Block_(11,_22),\n Block_(11,_23),\n Block_(11,_24),\n Block_(11,_25),\n Block_(11,_26),\n Block_(11,_27),\n Block_(11,_28),\n Block_(11,_29),\n Block_(11,_3),\n Block_(11,_30),\n Block_(11,_31),\n Block_(11,_32),\n Block_(11,_33),\n Block_(11,_34),\n Block_(11,_35),\n Block_(11,_36),\n Block_(11,_37),\n Block_(11,_38),\n Block_(11,_39),\n Block_(11,_4),\n Block_(11,_40),\n Block_(11,_41),\n Block_(11,_42),\n Block_(11,_43),\n Block_(11,_44),\n Block_(11,_45),\n Block_(11,_46),\n Block_(11,_47),\n Block_(11,_5),\n Block_(11,_6),\n Block_(11,_7),\n Block_(11,_8),\n Block_(11,_9),\n Block_(12,_0),\n Block_(12,_1),\n Block_(12,_10),\n Block_(12,_11),\n Block_(12,_12),\n Block_(12,_13),\n Block_(12,_14),\n Block_(12,_15),\n Block_(12,_16),\n Block_(12,_17),\n Block_(12,_18),\n Block_(12,_19),\n Block_(12,_2),\n Block_(12,_20),\n Block_(12,_21),\n Block_(12,_22),\n Block_(12,_23),\n Block_(12,_24),\n Block_(12,_25),\n Block_(12,_26),\n Block_(12,_27),\n Block_(12,_28),\n Block_(12,_29),\n Block_(12,_3),\n Block_(12,_30),\n Block_(12,_31),\n Block_(12,_32),\n Block_(12,_33),\n Block_(12,_34),\n Block_(12,_35),\n Block_(12,_36),\n Block_(12,_37),\n Block_(12,_38),\n Block_(12,_39),\n Block_(12,_4),\n Block_(12,_40),\n Block_(12,_41),\n Block_(12,_42),\n Block_(12,_43),\n Block_(12,_44),\n Block_(12,_45),\n Block_(12,_46),\n Block_(12,_47),\n Block_(12,_5),\n Block_(12,_6),\n Block_(12,_7),\n Block_(12,_8),\n Block_(12,_9),\n Block_(13,_0),\n Block_(13,_1),\n Block_(13,_10),\n Block_(13,_11),\n Block_(13,_12),\n Block_(13,_13),\n Block_(13,_14),\n Block_(13,_15),\n Block_(13,_16),\n Block_(13,_17),\n Block_(13,_18),\n Block_(13,_19),\n Block_(13,_2),\n Block_(13,_20),\n Block_(13,_21),\n Block_(13,_22),\n Block_(13,_23),\n Block_(13,_24),\n Block_(13,_25),\n Block_(13,_26),\n Block_(13,_27),\n Block_(13,_28),\n Block_(13,_29),\n Block_(13,_3),\n Block_(13,_30),\n Block_(13,_31),\n Block_(13,_32),\n Block_(13,_33),\n Block_(13,_34),\n Block_(13,_35),\n Block_(13,_36),\n Block_(13,_37),\n Block_(13,_38),\n Block_(13,_39),\n Block_(13,_4),\n Block_(13,_40),\n Block_(13,_41),\n Block_(13,_42),\n Block_(13,_43),\n Block_(13,_44),\n Block_(13,_45),\n Block_(13,_46),\n Block_(13,_47),\n Block_(13,_5),\n Block_(13,_6),\n Block_(13,_7),\n Block_(13,_8),\n Block_(13,_9),\n Block_(14,_0),\n Block_(14,_1),\n Block_(14,_10),\n Block_(14,_11),\n Block_(14,_12),\n Block_(14,_13),\n Block_(14,_14),\n Block_(14,_15),\n Block_(14,_16),\n Block_(14,_17),\n Block_(14,_18),\n Block_(14,_19),\n Block_(14,_2),\n Block_(14,_20),\n Block_(14,_21),\n Block_(14,_22),\n Block_(14,_23),\n Block_(14,_24),\n Block_(14,_25),\n Block_(14,_26),\n Block_(14,_27),\n Block_(14,_28),\n Block_(14,_29),\n Block_(14,_3),\n Block_(14,_30),\n Block_(14,_31),\n Block_(14,_32),\n Block_(14,_33),\n Block_(14,_34),\n Block_(14,_35),\n Block_(14,_36),\n Block_(14,_37),\n Block_(14,_38),\n Block_(14,_39),\n Block_(14,_4),\n Block_(14,_40),\n Block_(14,_41),\n Block_(14,_42),\n Block_(14,_43),\n Block_(14,_44),\n Block_(14,_45),\n Block_(14,_46),\n Block_(14,_47),\n Block_(14,_5),\n Block_(14,_6),\n Block_(14,_7),\n Block_(14,_8),\n Block_(14,_9),\n Block_(2,_0),\n Block_(2,_1),\n Block_(2,_10),\n Block_(2,_11),\n Block_(2,_12),\n Block_(2,_13),\n Block_(2,_14),\n Block_(2,_15),\n Block_(2,_16),\n Block_(2,_17),\n Block_(2,_18),\n Block_(2,_19),\n Block_(2,_2),\n Block_(2,_20),\n Block_(2,_21),\n Block_(2,_22),\n Block_(2,_23),\n Block_(2,_24),\n Block_(2,_25),\n Block_(2,_26),\n Block_(2,_27),\n Block_(2,_28),\n Block_(2,_29),\n Block_(2,_3),\n Block_(2,_30),\n Block_(2,_31),\n Block_(2,_32),\n Block_(2,_33),\n Block_(2,_34),\n Block_(2,_35),\n Block_(2,_36),\n Block_(2,_37),\n Block_(2,_38),\n Block_(2,_39),\n Block_(2,_4),\n Block_(2,_40),\n Block_(2,_41),\n Block_(2,_42),\n Block_(2,_43),\n Block_(2,_44),\n Block_(2,_45),\n Block_(2,_46),\n Block_(2,_47),\n Block_(2,_5),\n Block_(2,_6),\n Block_(2,_7),\n Block_(2,_8),\n Block_(2,_9),\n Block_(3,_0),\n Block_(3,_1),\n Block_(3,_10),\n Block_(3,_11),\n Block_(3,_12),\n Block_(3,_13),\n Block_(3,_14),\n Block_(3,_15),\n Block_(3,_16),\n Block_(3,_17),\n Block_(3,_18),\n Block_(3,_19),\n Block_(3,_2),\n Block_(3,_20),\n Block_(3,_21),\n Block_(3,_22),\n Block_(3,_23),\n Block_(3,_24),\n Block_(3,_25),\n Block_(3,_26),\n Block_(3,_27),\n Block_(3,_28),\n Block_(3,_29),\n Block_(3,_3),\n Block_(3,_30),\n Block_(3,_31),\n Block_(3,_32),\n Block_(3,_33),\n Block_(3,_34),\n Block_(3,_35),\n Block_(3,_36),\n Block_(3,_37),\n Block_(3,_38),\n Block_(3,_39),\n Block_(3,_4),\n Block_(3,_40),\n Block_(3,_41),\n Block_(3,_42),\n Block_(3,_43),\n Block_(3,_44),\n Block_(3,_45),\n Block_(3,_46),\n Block_(3,_47),\n Block_(3,_5),\n Block_(3,_6),\n Block_(3,_7),\n Block_(3,_8),\n Block_(3,_9),\n Block_(4,_0),\n Block_(4,_1),\n Block_(4,_10),\n Block_(4,_11),\n Block_(4,_12),\n Block_(4,_13),\n Block_(4,_14),\n Block_(4,_15),\n Block_(4,_16),\n Block_(4,_17),\n Block_(4,_18),\n Block_(4,_19),\n Block_(4,_2),\n Block_(4,_20),\n Block_(4,_21),\n Block_(4,_22),\n Block_(4,_23),\n Block_(4,_24),\n Block_(4,_25),\n Block_(4,_26),\n Block_(4,_27),\n Block_(4,_28),\n Block_(4,_29),\n Block_(4,_3),\n Block_(4,_30),\n Block_(4,_31),\n Block_(4,_32),\n Block_(4,_33),\n Block_(4,_34),\n Block_(4,_35),\n Block_(4,_36),\n Block_(4,_37),\n Block_(4,_38),\n Block_(4,_39),\n Block_(4,_4),\n Block_(4,_40),\n Block_(4,_41),\n Block_(4,_42),\n Block_(4,_43),\n Block_(4,_44),\n Block_(4,_45),\n Block_(4,_46),\n Block_(4,_47),\n Block_(4,_5),\n Block_(4,_6),\n Block_(4,_7),\n Block_(4,_8),\n Block_(4,_9),\n Block_(5,_0),\n Block_(5,_1),\n Block_(5,_10),\n Block_(5,_11),\n Block_(5,_12),\n Block_(5,_13),\n Block_(5,_14),\n Block_(5,_15),\n Block_(5,_16),\n Block_(5,_17),\n Block_(5,_18),\n Block_(5,_19),\n Block_(5,_2),\n Block_(5,_20),\n Block_(5,_21),\n Block_(5,_22),\n Block_(5,_23),\n Block_(5,_24),\n Block_(5,_25),\n Block_(5,_26),\n Block_(5,_27),\n Block_(5,_28),\n Block_(5,_29),\n Block_(5,_3),\n Block_(5,_30),\n Block_(5,_31),\n Block_(5,_32),\n Block_(5,_33),\n Block_(5,_34),\n Block_(5,_35),\n Block_(5,_36),\n Block_(5,_37),\n Block_(5,_38),\n Block_(5,_39),\n Block_(5,_4),\n Block_(5,_40),\n Block_(5,_41),\n Block_(5,_42),\n Block_(5,_43),\n Block_(5,_44),\n Block_(5,_45),\n Block_(5,_46),\n Block_(5,_47),\n Block_(5,_5),\n Block_(5,_6),\n Block_(5,_7),\n Block_(5,_8),\n Block_(5,_9),\n Block_(6,_0),\n Block_(6,_1),\n Block_(6,_10),\n Block_(6,_11),\n Block_(6,_12),\n Block_(6,_13),\n Block_(6,_14),\n Block_(6,_15),\n Block_(6,_16),\n Block_(6,_17),\n Block_(6,_18),\n Block_(6,_19),\n Block_(6,_2),\n Block_(6,_20),\n Block_(6,_21),\n Block_(6,_22),\n Block_(6,_23),\n Block_(6,_24),\n Block_(6,_25),\n Block_(6,_26),\n Block_(6,_27),\n Block_(6,_28),\n Block_(6,_29),\n Block_(6,_3),\n Block_(6,_30),\n Block_(6,_31),\n Block_(6,_32),\n Block_(6,_33),\n Block_(6,_34),\n Block_(6,_35),\n Block_(6,_36),\n Block_(6,_37),\n Block_(6,_38),\n Block_(6,_39),\n Block_(6,_4),\n Block_(6,_40),\n Block_(6,_41),\n Block_(6,_42),\n Block_(6,_43),\n Block_(6,_44),\n Block_(6,_45),\n Block_(6,_46),\n Block_(6,_47),\n Block_(6,_5),\n Block_(6,_6),\n Block_(6,_7),\n Block_(6,_8),\n Block_(6,_9),\n Block_(7,_0),\n Block_(7,_1),\n Block_(7,_10),\n Block_(7,_11),\n Block_(7,_12),\n Block_(7,_13),\n Block_(7,_14),\n Block_(7,_15),\n Block_(7,_16),\n Block_(7,_17),\n Block_(7,_18),\n Block_(7,_19),\n Block_(7,_2),\n Block_(7,_20),\n Block_(7,_21),\n Block_(7,_22),\n Block_(7,_23),\n Block_(7,_24),\n Block_(7,_25),\n Block_(7,_26),\n Block_(7,_27),\n Block_(7,_28),\n Block_(7,_29),\n Block_(7,_3),\n Block_(7,_30),\n Block_(7,_31),\n Block_(7,_32),\n Block_(7,_33),\n Block_(7,_34),\n Block_(7,_35),\n Block_(7,_36),\n Block_(7,_37),\n Block_(7,_38),\n Block_(7,_39),\n Block_(7,_4),\n Block_(7,_40),\n Block_(7,_41),\n Block_(7,_42),\n Block_(7,_43),\n Block_(7,_44),\n Block_(7,_45),\n Block_(7,_46),\n Block_(7,_47),\n Block_(7,_5),\n Block_(7,_6),\n Block_(7,_7),\n Block_(7,_8),\n Block_(7,_9),\n Block_(8,_0),\n Block_(8,_1),\n Block_(8,_10),\n Block_(8,_11),\n Block_(8,_12),\n Block_(8,_13),\n Block_(8,_14),\n Block_(8,_15),\n Block_(8,_16),\n Block_(8,_17),\n Block_(8,_18),\n Block_(8,_19),\n Block_(8,_2),\n Block_(8,_20),\n Block_(8,_21),\n Block_(8,_22),\n Block_(8,_23),\n Block_(8,_24),\n Block_(8,_25),\n Block_(8,_26),\n Block_(8,_27),\n Block_(8,_28),\n Block_(8,_29),\n Block_(8,_3),\n Block_(8,_30),\n Block_(8,_31),\n Block_(8,_32),\n Block_(8,_33),\n Block_(8,_34),\n Block_(8,_35),\n Block_(8,_36),\n Block_(8,_37),\n Block_(8,_38),\n Block_(8,_39),\n Block_(8,_4),\n Block_(8,_40),\n Block_(8,_41),\n Block_(8,_42),\n Block_(8,_43),\n Block_(8,_44),\n Block_(8,_45),\n Block_(8,_46),\n Block_(8,_47),\n Block_(8,_5),\n Block_(8,_6),\n Block_(8,_7),\n Block_(8,_8),\n Block_(8,_9),\n Block_(9,_0),\n Block_(9,_1),\n Block_(9,_10),\n Block_(9,_11),\n Block_(9,_12),\n Block_(9,_13),\n Block_(9,_14),\n Block_(9,_15),\n Block_(9,_16),\n Block_(9,_17),\n Block_(9,_18),\n Block_(9,_19),\n Block_(9,_2),\n Block_(9,_20),\n Block_(9,_21),\n Block_(9,_22),\n Block_(9,_23),\n Block_(9,_24),\n Block_(9,_25),\n Block_(9,_26),\n Block_(9,_27),\n Block_(9,_28),\n Block_(9,_29),\n Block_(9,_3),\n Block_(9,_30),\n Block_(9,_31),\n Block_(9,_32),\n Block_(9,_33),\n Block_(9,_34),\n Block_(9,_35),\n Block_(9,_36),\n Block_(9,_37),\n Block_(9,_38),\n Block_(9,_39),\n Block_(9,_4),\n Block_(9,_40),\n Block_(9,_41),\n Block_(9,_42),\n Block_(9,_43),\n Block_(9,_44),\n Block_(9,_45),\n Block_(9,_46),\n Block_(9,_47),\n Block_(9,_5),\n Block_(9,_6),\n Block_(9,_7),\n Block_(9,_8),\n Block_(9,_9)]"
     },
     "execution_count": 41,
     "metadata": {},
     "output_type": "execute_result"
    }
   ],
   "source": [
    "prob.writeLP('task_problem.lp')"
   ],
   "metadata": {
    "collapsed": false,
    "pycharm": {
     "name": "#%%\n"
    }
   }
  },
  {
   "cell_type": "code",
   "execution_count": 51,
   "outputs": [
    {
     "ename": "KeyError",
     "evalue": "'None of [0] are in the columns'",
     "output_type": "error",
     "traceback": [
      "\u001B[0;31m---------------------------------------------------------------------------\u001B[0m",
      "\u001B[0;31mKeyError\u001B[0m                                  Traceback (most recent call last)",
      "\u001B[0;32m/var/folders/jq/9dbfmyhn6s98d705yc81nqym0000gn/T/ipykernel_34741/68232032.py\u001B[0m in \u001B[0;36m<module>\u001B[0;34m\u001B[0m\n\u001B[1;32m      2\u001B[0m \u001B[0mchosen_tasks_dataframe\u001B[0m \u001B[0;34m=\u001B[0m \u001B[0mpd\u001B[0m\u001B[0;34m.\u001B[0m\u001B[0mread_csv\u001B[0m\u001B[0;34m(\u001B[0m\u001B[0mtask_file\u001B[0m\u001B[0;34m)\u001B[0m\u001B[0;34m\u001B[0m\u001B[0;34m\u001B[0m\u001B[0m\n\u001B[1;32m      3\u001B[0m \u001B[0;31m# chosen_tasks_dataframe.sort_index([chosen_tasks])\u001B[0m\u001B[0;34m\u001B[0m\u001B[0;34m\u001B[0m\u001B[0;34m\u001B[0m\u001B[0m\n\u001B[0;32m----> 4\u001B[0;31m \u001B[0mdf_chosen_tasks\u001B[0m \u001B[0;34m=\u001B[0m \u001B[0mchosen_tasks_dataframe\u001B[0m\u001B[0;34m.\u001B[0m\u001B[0mset_index\u001B[0m\u001B[0;34m(\u001B[0m\u001B[0;36m0\u001B[0m\u001B[0;34m,\u001B[0m\u001B[0;34m)\u001B[0m\u001B[0;34m\u001B[0m\u001B[0;34m\u001B[0m\u001B[0m\n\u001B[0m",
      "\u001B[0;32m~/opt/anaconda3/envs/Task-scheduler-problem/lib/python3.7/site-packages/pandas/core/frame.py\u001B[0m in \u001B[0;36mset_index\u001B[0;34m(self, keys, drop, append, inplace, verify_integrity)\u001B[0m\n\u001B[1;32m   4301\u001B[0m \u001B[0;34m\u001B[0m\u001B[0m\n\u001B[1;32m   4302\u001B[0m         \u001B[0;32mif\u001B[0m \u001B[0mmissing\u001B[0m\u001B[0;34m:\u001B[0m\u001B[0;34m\u001B[0m\u001B[0;34m\u001B[0m\u001B[0m\n\u001B[0;32m-> 4303\u001B[0;31m             \u001B[0;32mraise\u001B[0m \u001B[0mKeyError\u001B[0m\u001B[0;34m(\u001B[0m\u001B[0;34mf\"None of {missing} are in the columns\"\u001B[0m\u001B[0;34m)\u001B[0m\u001B[0;34m\u001B[0m\u001B[0;34m\u001B[0m\u001B[0m\n\u001B[0m\u001B[1;32m   4304\u001B[0m \u001B[0;34m\u001B[0m\u001B[0m\n\u001B[1;32m   4305\u001B[0m         \u001B[0;32mif\u001B[0m \u001B[0minplace\u001B[0m\u001B[0;34m:\u001B[0m\u001B[0;34m\u001B[0m\u001B[0;34m\u001B[0m\u001B[0m\n",
      "\u001B[0;31mKeyError\u001B[0m: 'None of [0] are in the columns'"
     ]
    }
   ],
   "source": [
    "type(chosen_tasks)\n",
    "chosen_tasks_dataframe = pd.read_csv(task_file)\n",
    "# chosen_tasks_dataframe.sort_index([chosen_tasks])\n",
    "df_chosen_tasks = chosen_tasks_dataframe.set_index(0)"
   ],
   "metadata": {
    "collapsed": false,
    "pycharm": {
     "name": "#%%\n"
    }
   }
  },
  {
   "cell_type": "code",
   "execution_count": 43,
   "outputs": [
    {
     "data": {
      "text/plain": "                                            Task name  Important score (1-5)  \\\n0                    README.md data flow for ALL DATA                      1   \n1                  Complete Mastery of Large Datasets                      1   \n2                                 Triage next 5 books                      2   \n3                                           Laundry-r                      3   \n4                        11am email brk 3pm email brk                      3   \n5                                dual processor tools                      3   \n6               Weekend todo list drill induction etc                      4   \n7                                  TAM Analysis start                      4   \n8                visualize my why photo ideal day etc                      5   \n9                       MasterGoal xlsx import sample                      5   \n10  review passwords and rev andrewschell3 visibility                      5   \n11                                    Project imports                      5   \n12             slave training routine start-sub-slave                      5   \n13                study slave training breaking minds                      5   \n14                                  scraping linkedin                      5   \n\n    Time to finish  Num of blocks  \n0               60              2  \n1              180              6  \n2              120              4  \n3               60              2  \n4               30              1  \n5               60              2  \n6               30              1  \n7              120              4  \n8              150              5  \n9               90              3  \n10              60              2  \n11              30              1  \n12              30              1  \n13             120              4  \n14              60              2  ",
      "text/html": "<div>\n<style scoped>\n    .dataframe tbody tr th:only-of-type {\n        vertical-align: middle;\n    }\n\n    .dataframe tbody tr th {\n        vertical-align: top;\n    }\n\n    .dataframe thead th {\n        text-align: right;\n    }\n</style>\n<table border=\"1\" class=\"dataframe\">\n  <thead>\n    <tr style=\"text-align: right;\">\n      <th></th>\n      <th>Task name</th>\n      <th>Important score (1-5)</th>\n      <th>Time to finish</th>\n      <th>Num of blocks</th>\n    </tr>\n  </thead>\n  <tbody>\n    <tr>\n      <th>0</th>\n      <td>README.md data flow for ALL DATA</td>\n      <td>1</td>\n      <td>60</td>\n      <td>2</td>\n    </tr>\n    <tr>\n      <th>1</th>\n      <td>Complete Mastery of Large Datasets</td>\n      <td>1</td>\n      <td>180</td>\n      <td>6</td>\n    </tr>\n    <tr>\n      <th>2</th>\n      <td>Triage next 5 books</td>\n      <td>2</td>\n      <td>120</td>\n      <td>4</td>\n    </tr>\n    <tr>\n      <th>3</th>\n      <td>Laundry-r</td>\n      <td>3</td>\n      <td>60</td>\n      <td>2</td>\n    </tr>\n    <tr>\n      <th>4</th>\n      <td>11am email brk 3pm email brk</td>\n      <td>3</td>\n      <td>30</td>\n      <td>1</td>\n    </tr>\n    <tr>\n      <th>5</th>\n      <td>dual processor tools</td>\n      <td>3</td>\n      <td>60</td>\n      <td>2</td>\n    </tr>\n    <tr>\n      <th>6</th>\n      <td>Weekend todo list drill induction etc</td>\n      <td>4</td>\n      <td>30</td>\n      <td>1</td>\n    </tr>\n    <tr>\n      <th>7</th>\n      <td>TAM Analysis start</td>\n      <td>4</td>\n      <td>120</td>\n      <td>4</td>\n    </tr>\n    <tr>\n      <th>8</th>\n      <td>visualize my why photo ideal day etc</td>\n      <td>5</td>\n      <td>150</td>\n      <td>5</td>\n    </tr>\n    <tr>\n      <th>9</th>\n      <td>MasterGoal xlsx import sample</td>\n      <td>5</td>\n      <td>90</td>\n      <td>3</td>\n    </tr>\n    <tr>\n      <th>10</th>\n      <td>review passwords and rev andrewschell3 visibility</td>\n      <td>5</td>\n      <td>60</td>\n      <td>2</td>\n    </tr>\n    <tr>\n      <th>11</th>\n      <td>Project imports</td>\n      <td>5</td>\n      <td>30</td>\n      <td>1</td>\n    </tr>\n    <tr>\n      <th>12</th>\n      <td>slave training routine start-sub-slave</td>\n      <td>5</td>\n      <td>30</td>\n      <td>1</td>\n    </tr>\n    <tr>\n      <th>13</th>\n      <td>study slave training breaking minds</td>\n      <td>5</td>\n      <td>120</td>\n      <td>4</td>\n    </tr>\n    <tr>\n      <th>14</th>\n      <td>scraping linkedin</td>\n      <td>5</td>\n      <td>60</td>\n      <td>2</td>\n    </tr>\n  </tbody>\n</table>\n</div>"
     },
     "execution_count": 43,
     "metadata": {},
     "output_type": "execute_result"
    }
   ],
   "source": [
    "tasks = pd.read_csv(task_file)\n",
    "tasks"
   ],
   "metadata": {
    "collapsed": false,
    "pycharm": {
     "name": "#%%\n"
    }
   }
  },
  {
   "cell_type": "code",
   "execution_count": 44,
   "outputs": [
    {
     "name": "stdout",
     "output_type": "stream",
     "text": [
      "next\n",
      "\n"
     ]
    },
    {
     "data": {
      "text/plain": "list"
     },
     "execution_count": 44,
     "metadata": {},
     "output_type": "execute_result"
    }
   ],
   "source": [
    "print(\"next\\n\")\n",
    "type(chosen_tasks)"
   ],
   "metadata": {
    "collapsed": false,
    "pycharm": {
     "name": "#%%\n"
    }
   }
  },
  {
   "cell_type": "code",
   "execution_count": 45,
   "outputs": [
    {
     "data": {
      "text/plain": "4"
     },
     "execution_count": 45,
     "metadata": {},
     "output_type": "execute_result"
    }
   ],
   "source": [
    "printed_chosen_tasks = chosen_tasks[0]\n",
    "printed_chosen_tasks\n"
   ],
   "metadata": {
    "collapsed": false,
    "pycharm": {
     "name": "#%%\n"
    }
   }
  }
 ],
 "metadata": {
  "kernelspec": {
   "display_name": "Python 3",
   "language": "python",
   "name": "python3"
  },
  "language_info": {
   "codemirror_mode": {
    "name": "ipython",
    "version": 2
   },
   "file_extension": ".py",
   "mimetype": "text/x-python",
   "name": "python",
   "nbconvert_exporter": "python",
   "pygments_lexer": "ipython2",
   "version": "2.7.6"
  }
 },
 "nbformat": 4,
 "nbformat_minor": 0
}
