{
 "cells": [
  {
   "cell_type": "markdown",
   "metadata": {},
   "source": [
    "You have different tasks to finish within the day. 7 am is the earliest time and 10 pm is the latest time of the day to finish all the tasks. Since each time block is 30', there are (15 hours)*(2 blocks/hour)= 30 blocks. Each task takes different amount of time to complete and different important score. Given that there are scheduled meetings during the day that you cannot assign the tasks.  How do you assign the tasks to maximize the productivty? Note: Since there is limited time per day, you don't need to assign every task in one day, the goal is not to fit every task but to maximize the total score"
   ]
  },
  {
   "cell_type": "markdown",
   "metadata": {},
   "source": [
    "Input parameters: number of tasks (n), number of time blocks (B), important score of a task (s[i]), time for a task (t[i]), availability of a block (a[b]), with a[b]=0 if not available and a[b]=1 if available\n",
    "\n",
    "Decision Variables: Whether or not to assign the task in a specific block of time\n",
    "\n",
    "Constraints:\n",
    "-One task per block\n",
    "-Time performing all tasks should be less than the time available\n",
    "-Do not need to be consecutive"
   ]
  },
  {
   "cell_type": "code",
   "execution_count": null,
   "metadata": {
    "pycharm": {
     "is_executing": true
    }
   },
   "outputs": [],
   "source": [
    "!pip3 install pandas\n",
    "!pip3 install pulp\n",
    "!pip3 install tox\n",
    "!pip3 install matplotlib\n",
    "!pip3 install openpyxl"
   ]
  },
  {
   "cell_type": "code",
   "execution_count": null,
   "outputs": [],
   "source": [
    "import pandas as pd\n",
    "import pulp\n",
    "import tox\n",
    "import matplotlib\n",
    "import openpyxl"
   ],
   "metadata": {
    "collapsed": false,
    "pycharm": {
     "is_executing": true
    }
   }
  },
  {
   "cell_type": "code",
   "execution_count": null,
   "outputs": [],
   "source": [
    "tasks = pd.read_excel('data/Tasks.xlsx', 'Tasks')\n",
    "tasks"
   ],
   "metadata": {
    "collapsed": false,
    "pycharm": {
     "name": "#%%import pandas as pd\n",
     "is_executing": true
    }
   }
  },
  {
   "cell_type": "code",
   "execution_count": null,
   "metadata": {
    "pycharm": {
     "is_executing": true
    }
   },
   "outputs": [],
   "source": [
    "schedule = pd.read_excel('data/Tasks.xlsx','Schedule',usecols=\"B\",header=None)\n",
    "schedule\n"
   ]
  },
  {
   "cell_type": "code",
   "execution_count": null,
   "metadata": {
    "pycharm": {
     "is_executing": true
    }
   },
   "outputs": [],
   "source": [
    "s = list(tasks['Important score (1-5)'])\n",
    "\n",
    "d = list(tasks['Num of blocks'])\n",
    "\n",
    "b = list(schedule.iloc[:,0])\n"
   ]
  },
  {
   "cell_type": "code",
   "execution_count": null,
   "metadata": {
    "pycharm": {
     "is_executing": true
    }
   },
   "outputs": [],
   "source": [
    "B = len(b)\n",
    "n = len(s)\n",
    "M = 10000000"
   ]
  },
  {
   "cell_type": "code",
   "execution_count": null,
   "metadata": {
    "pycharm": {
     "is_executing": true
    }
   },
   "outputs": [],
   "source": [
    "#Time blocks available\n",
    "A = sum(b)\n",
    "A"
   ]
  },
  {
   "cell_type": "code",
   "execution_count": null,
   "metadata": {
    "pycharm": {
     "is_executing": true
    }
   },
   "outputs": [],
   "source": [
    "from pulp import *"
   ]
  },
  {
   "cell_type": "code",
   "execution_count": null,
   "metadata": {
    "pycharm": {
     "is_executing": true
    }
   },
   "outputs": [],
   "source": [
    "prob = LpProblem(\"Schedule_Tasks\",LpMaximize)"
   ]
  },
  {
   "cell_type": "code",
   "execution_count": null,
   "metadata": {
    "pycharm": {
     "is_executing": true
    }
   },
   "outputs": [],
   "source": [
    "#Define variable\n",
    "y = LpVariable.dicts('Block', [(i,t) for i in range(n) for t in range(B)],\n",
    "                    cat='Binary')\n",
    "start = LpVariable.dicts('Startime', [i for i in range(n)], cat='Integer', lowBound=1, upBound=B)\n",
    "\n",
    "x = LpVariable.dicts('Precedence {i}_{j+1}',[(i,j) for i in range(n) for j in range(n)], cat=\"Binary\")\n",
    "\n",
    "first = LpVariable.dicts('First Task', [i for i in range(n)], cat= 'Binary')\n",
    "\n",
    "last = LpVariable.dicts('Last Task', [i for i in range(n)], cat = 'Binary')\n"
   ]
  },
  {
   "cell_type": "code",
   "execution_count": null,
   "metadata": {
    "pycharm": {
     "is_executing": true
    }
   },
   "outputs": [],
   "source": [
    "y"
   ]
  },
  {
   "cell_type": "code",
   "execution_count": null,
   "metadata": {
    "pycharm": {
     "is_executing": true
    }
   },
   "outputs": [],
   "source": [
    "#Define objective\n",
    "\n",
    "prob += lpSum(s[i]*b[t]*y[(i,t)] for i in range(n) for t in range(B))"
   ]
  },
  {
   "cell_type": "code",
   "execution_count": null,
   "metadata": {
    "pycharm": {
     "is_executing": true
    }
   },
   "outputs": [],
   "source": [
    "#Define constraints\n",
    "\n",
    "#Sum of the time bocks of the assigned tasks should be not greater than the number of available time blocks\n",
    "prob += lpSum(y[(i,t)] for i in range(n) for t in range(B)) <= A\n",
    "\n",
    "#Total number of time blocks assigned for each task should be less than or equal to the time needed to finish the task\n",
    "for i in range(n):\n",
    "    prob += lpSum(y[(i,t)] for t in range(B)) <= d[i]\n",
    "\n",
    "#No more than one task each block\n",
    "for t in range(B):\n",
    "    prob += lpSum(y[(i,t)] for i in range(n)) <= 1\n",
    "\n",
    "#One first task\n",
    "prob += lpSum(first[i] for i in range(n)) == 1\n",
    "\n",
    "#One last task\n",
    "prob += lpSum(last[i] for i in range(n)) == 1\n",
    "\n",
    "\n",
    "#Task i the last task or it has a successor j\n",
    "\n",
    "for i in range(n):\n",
    "    prob += last[i] + lpSum(x[(i,j)] for j in range(n) if j!=i) == 1\n",
    "\n",
    "#Task j is the first task or it has a precedence i\n",
    "\n",
    "for j in range(n):\n",
    "    prob += first[j] + lpSum(x[(i,j)]for i in range(n) if i!=j) == 1\n",
    "\n",
    "#Condition is applied when task j follows task i\n",
    "for t in range(B):\n",
    "    for i in range(n):\n",
    "        for j in range(n):\n",
    "            if i!= j:\n",
    "                prob += start[i] + d[i] - M*(1 - x[(i,j)]) - M*(1-y[(i,t)]) - M*(1-y[(j,t)]) <= start[j]\n",
    "\n",
    "\n"
   ]
  },
  {
   "cell_type": "code",
   "execution_count": null,
   "metadata": {
    "pycharm": {
     "is_executing": true
    }
   },
   "outputs": [],
   "source": [
    "LpSolverDefault.msg = 1"
   ]
  },
  {
   "cell_type": "code",
   "execution_count": null,
   "metadata": {
    "pycharm": {
     "is_executing": true
    }
   },
   "outputs": [],
   "source": [
    "prob.solve()"
   ]
  },
  {
   "cell_type": "code",
   "execution_count": null,
   "metadata": {
    "pycharm": {
     "is_executing": true
    }
   },
   "outputs": [],
   "source": [
    "print(\"Assignment accomplished!\")\n",
    "for i in range(n):\n",
    "    for t in range(B):\n",
    "        if y[(i,t)].varValue >= 0.5:\n",
    "            print(\"task {} block {} start {} first {} last {} precedence {}\".format(i,t, start[i].varValue, first[i].varValue, last[i].varValue, x[i,j].varValue))\n"
   ]
  },
  {
   "cell_type": "code",
   "execution_count": null,
   "metadata": {
    "pycharm": {
     "is_executing": true
    }
   },
   "outputs": [],
   "source": [
    "pulp.value(prob.objective)"
   ]
  },
  {
   "cell_type": "code",
   "execution_count": null,
   "metadata": {
    "pycharm": {
     "is_executing": true
    }
   },
   "outputs": [],
   "source": [
    "prob.writeLP('task_problem.lp')"
   ]
  },
  {
   "cell_type": "markdown",
   "metadata": {},
   "source": [
    "Questions:\n",
    "-Is it necessary to complete one task in one day when get started?\n",
    "-How to make the tasks continuous once get started but doesn't need to finish on the same day if the time does not allow?\n",
    "    +precedence constraints (Single Machine Scheduling): One task cannot start until another task starts\n",
    "    +No overlap constraints: One task at a time"
   ]
  },
  {
   "cell_type": "markdown",
   "metadata": {},
   "source": [
    "Observations:\n",
    "-The tasks with highest scores would be attempted to fit into the schedule until either time blocks are ran out out the task is finished\n"
   ]
  }
 ],
 "metadata": {
  "kernelspec": {
   "name": "pycharm-9c538033",
   "language": "python",
   "display_name": "PyCharm (Task-scheduler-problem)"
  },
  "language_info": {
   "codemirror_mode": {
    "name": "ipython",
    "version": 3
   },
   "file_extension": ".py",
   "mimetype": "text/x-python",
   "name": "python",
   "nbconvert_exporter": "python",
   "pygments_lexer": "ipython3",
   "version": "3.7.4"
  }
 },
 "nbformat": 4,
 "nbformat_minor": 2
}
